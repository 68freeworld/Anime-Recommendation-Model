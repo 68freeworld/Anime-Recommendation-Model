{
 "cells": [
  {
   "cell_type": "code",
   "execution_count": 3,
   "id": "c91af38b",
   "metadata": {},
   "outputs": [],
   "source": [
    "import pandas as pd\n",
    "import numpy as np\n",
    "from sklearn.feature_extraction.text import TfidfVectorizer  # For converting text data into TF-IDF vectors\n",
    "from sklearn.metrics.pairwise import cosine_similarity  # For computing cosine similarity between vectors\n",
    "from scipy.spatial.distance import pdist, squareform  # For pairwise distance computations and converting to a square matrix\n",
    "import pickle\n",
    "import os\n",
    "\n",
    "# pd.set_option('display.max_columns', None)\n",
    "pd.set_option('display.max_columns', 10)\n",
    "pd.set_option('display.max_rows', 10)\n"
   ]
  },
  {
   "cell_type": "code",
   "execution_count": 4,
   "id": "bdc6e464",
   "metadata": {},
   "outputs": [],
   "source": [
    "anime_df = pd.read_csv('AnimeNEW.csv')"
   ]
  },
  {
   "cell_type": "code",
   "execution_count": 21,
   "id": "3be3fed6",
   "metadata": {},
   "outputs": [],
   "source": [
    "\n",
    "def recommend_by_jaccard(\n",
    "    title,\n",
    "    anime_df,\n",
    "    top_n=5,\n",
    "    type='Genres',  # 'Genres' or 'Themes'\n",
    "    combine=False,\n",
    "    precomputed=None  # None, DataFrame (for single), or dict {'genre': df, 'theme': df}\n",
    "):\n",
    "    \"\"\"\n",
    "    Recommend similar anime using Jaccard similarity on Genres, Themes, or both.\n",
    "\n",
    "    Parameters:\n",
    "    -----------\n",
    "    title : str\n",
    "        The anime title (English) to base recommendations on.\n",
    "\n",
    "    anime_df : pd.DataFrame\n",
    "        Dataset containing at least 'English', 'Genres', and 'Themes'.\n",
    "\n",
    "    top_n : int\n",
    "        Number of top similar results to return.\n",
    "\n",
    "    type : str\n",
    "        Either 'Genres' or 'Themes'. Only used if combine=False.\n",
    "\n",
    "    combine : bool\n",
    "        If True, calculate Jaccard on both Genres and Themes and return intersection.\n",
    "\n",
    "    precomputed : DataFrame or dict, optional\n",
    "        If combine=False, pass a Jaccard similarity DataFrame.\n",
    "        If combine=True, pass a dict: {'genre': df, 'theme': df}.\n",
    "\n",
    "    Returns:\n",
    "    --------\n",
    "    dict\n",
    "        If combine=False:\n",
    "            { \"top\": pd.Series }\n",
    "        If combine=True:\n",
    "            {\n",
    "              \"genre_top\": pd.Series,\n",
    "              \"theme_top\": pd.Series,\n",
    "              \"common\": list\n",
    "            }\n",
    "    \"\"\"\n",
    "\n",
    "    # Check if title exists in the dataset\n",
    "    if title not in anime_df['English'].values:\n",
    "        raise ValueError(f\"'{title}' not found in dataset.\")\n",
    "\n",
    "    def compute_jaccard(df, col):\n",
    "        cross_tab = pd.crosstab(df['English'], df[col])\n",
    "        distances = pdist(cross_tab.values, metric='jaccard')\n",
    "        similarity = 1 - squareform(distances)\n",
    "        return pd.DataFrame(similarity, index=cross_tab.index, columns=cross_tab.index)\n",
    "    \n",
    "    def compute_jaccard_array(df, col, arr):\n",
    "        cross_tab = pd.crosstab(df['English'], df[col])\n",
    "        distances = arr\n",
    "        similarity = 1 - squareform(distances)\n",
    "        return pd.DataFrame(similarity, index=cross_tab.index, columns=cross_tab.index)\n",
    "\n",
    "    # === Combine mode ===\n",
    "    if combine:\n",
    "\n",
    "        # if (not isinstance(precomputed, dict)) or ('genre' not in precomputed or 'theme' not in precomputed) or (precomputed['genre'] is None or precomputed['theme'] is None):\n",
    "        #     raise ValueError(\"precomputed must be a dict with 'genre' and 'theme' keys.\")\n",
    "        \n",
    "        if precomputed == None: # they didnt pass anything\n",
    "            df_jaccard_genres = anime_df[[\"English\", 'Genres']]\n",
    "            df_filtered_genres = df_jaccard_genres[(df_jaccard_genres['Genres'] != 'Unknown') & (df_jaccard_genres['English'] != 'Unknown')]\n",
    "\n",
    "            genres_df = compute_jaccard(df_filtered_genres, 'Genres')\n",
    "\n",
    "            df_jaccard_themes = anime_df[[\"English\", 'Themes']]\n",
    "            df_filtered_themes = df_jaccard_themes[(df_jaccard_themes['Themes'] != 'Unknown') & (df_jaccard_themes['English'] != 'Unknown')]\n",
    "\n",
    "            themes_df = compute_jaccard(df_filtered_themes, 'Genres')\n",
    "\n",
    "            genre_top = genres_df.loc[title].sort_values(ascending=False)[1:top_n+1]\n",
    "            theme_top = themes_df.loc[title].sort_values(ascending=False)[1:top_n+1]\n",
    "            common = list(set(genre_top.index) & set(theme_top.index))\n",
    "\n",
    "            return {\n",
    "                \"genre_top\": genre_top,\n",
    "                \"theme_top\": theme_top,\n",
    "                \"common\": common\n",
    "            }\n",
    "        \n",
    "        else:\n",
    "            df_jaccard_themes = anime_df[[\"English\", 'Themes']]\n",
    "            df_filtered_themes = df_jaccard_themes[(df_jaccard_themes['Themes'] != 'Unknown') & (df_jaccard_themes['English'] != 'Unknown')]\n",
    "\n",
    "            df_jaccard_genres = anime_df[[\"English\", 'Genres']]\n",
    "            df_filtered_genres = df_jaccard_genres[(df_jaccard_genres['Genres'] != 'Unknown') & (df_jaccard_genres['English'] != 'Unknown')]\n",
    "\n",
    "            genre_sim = precomputed.get('genre')\n",
    "            genre_sim_df = compute_jaccard_array(df_filtered_genres, 'Genres', genre_sim)\n",
    "\n",
    "            theme_sim = precomputed.get('theme')\n",
    "            theme_sim_df = compute_jaccard_array(df_filtered_themes, 'Themes', theme_sim)\n",
    "\n",
    "            if title not in genre_sim_df.index:\n",
    "                raise ValueError(f\"'{title}' not found in genre similarity data.\")\n",
    "            if title not in theme_sim_df.index:\n",
    "                raise ValueError(f\"'{title}' not found in theme similarity data.\")\n",
    "\n",
    "            genre_top = genre_sim_df.loc[title].sort_values(ascending=False)[1:top_n+1]\n",
    "            theme_top = theme_sim_df.loc[title].sort_values(ascending=False)[1:top_n+1]\n",
    "            common = list(set(genre_top.index) & set(theme_top.index))\n",
    "   \n",
    "            return {\n",
    "                # \"genre_top\": genre_top,\n",
    "                # \"theme_top\": theme_top,\n",
    "                \"common\": common\n",
    "            }\n",
    "        \n",
    "\n",
    "    # === Single mode ===\n",
    "    else:\n",
    "        if type not in ['Genres', 'Themes']:\n",
    "            raise ValueError(\"type must be either 'Genres' or 'Themes'\")\n",
    "        \n",
    "        df_jaccard = anime_df[[\"English\", type]]\n",
    "        df_filtered = df_jaccard[(df_jaccard[type] != 'Unknown') & (df_jaccard['English'] != 'Unknown')]\n",
    "\n",
    "\n",
    "\n",
    "\n",
    "        sim = precomputed\n",
    "        if sim is None:\n",
    "            sim = compute_jaccard(df_filtered, type)\n",
    "            if title not in sim.index:\n",
    "                raise ValueError(f\"'{title}' not found in similarity data.\")\n",
    "            top = sim.loc[title].sort_values(ascending=False)[1:top_n+1]\n",
    "            return {\"top\": top}\n",
    "        \n",
    "        else:\n",
    "            sim_df = compute_jaccard_array(df_filtered, type, sim)\n",
    "\n",
    "            if title not in sim_df.index:\n",
    "                raise ValueError(f\"'{title}' not found in similarity data.\")\n",
    "            top = sim_df.loc[title].sort_values(ascending=False)[1:top_n+1]\n",
    "            return {\"top\": top}\n",
    "            \n",
    "        \n",
    "\n",
    "\n",
    "        \n",
    "        \n",
    "\n"
   ]
  },
  {
   "cell_type": "code",
   "execution_count": 22,
   "id": "9f149a67",
   "metadata": {},
   "outputs": [
    {
     "ename": "ValueError",
     "evalue": "'John Wax' not found in dataset.",
     "output_type": "error",
     "traceback": [
      "\u001b[31m---------------------------------------------------------------------------\u001b[39m",
      "\u001b[31mValueError\u001b[39m                                Traceback (most recent call last)",
      "\u001b[36mCell\u001b[39m\u001b[36m \u001b[39m\u001b[32mIn[22]\u001b[39m\u001b[32m, line 1\u001b[39m\n\u001b[32m----> \u001b[39m\u001b[32m1\u001b[39m res = \u001b[43mrecommend_by_jaccard\u001b[49m\u001b[43m(\u001b[49m\u001b[33;43m\"\u001b[39;49m\u001b[33;43mJohn Wax\u001b[39;49m\u001b[33;43m\"\u001b[39;49m\u001b[43m,\u001b[49m\u001b[43m \u001b[49m\u001b[43manime_df\u001b[49m\u001b[43m,\u001b[49m\u001b[43m \u001b[49m\u001b[38;5;28;43mtype\u001b[39;49m\u001b[43m=\u001b[49m\u001b[33;43m'\u001b[39;49m\u001b[33;43mThemes\u001b[39;49m\u001b[33;43m'\u001b[39;49m\u001b[43m,\u001b[49m\u001b[43m \u001b[49m\u001b[43mcombine\u001b[49m\u001b[43m=\u001b[49m\u001b[38;5;28;43;01mFalse\u001b[39;49;00m\u001b[43m)\u001b[49m\n",
      "\u001b[36mCell\u001b[39m\u001b[36m \u001b[39m\u001b[32mIn[21]\u001b[39m\u001b[32m, line 48\u001b[39m, in \u001b[36mrecommend_by_jaccard\u001b[39m\u001b[34m(title, anime_df, top_n, type, combine, precomputed)\u001b[39m\n\u001b[32m     46\u001b[39m \u001b[38;5;66;03m# Check if title exists in the dataset\u001b[39;00m\n\u001b[32m     47\u001b[39m \u001b[38;5;28;01mif\u001b[39;00m title \u001b[38;5;129;01mnot\u001b[39;00m \u001b[38;5;129;01min\u001b[39;00m anime_df[\u001b[33m'\u001b[39m\u001b[33mEnglish\u001b[39m\u001b[33m'\u001b[39m].values:\n\u001b[32m---> \u001b[39m\u001b[32m48\u001b[39m     \u001b[38;5;28;01mraise\u001b[39;00m \u001b[38;5;167;01mValueError\u001b[39;00m(\u001b[33mf\u001b[39m\u001b[33m\"\u001b[39m\u001b[33m'\u001b[39m\u001b[38;5;132;01m{\u001b[39;00mtitle\u001b[38;5;132;01m}\u001b[39;00m\u001b[33m'\u001b[39m\u001b[33m not found in dataset.\u001b[39m\u001b[33m\"\u001b[39m)\n\u001b[32m     50\u001b[39m \u001b[38;5;28;01mdef\u001b[39;00m\u001b[38;5;250m \u001b[39m\u001b[34mcompute_jaccard\u001b[39m(df, col):\n\u001b[32m     51\u001b[39m     cross_tab = pd.crosstab(df[\u001b[33m'\u001b[39m\u001b[33mEnglish\u001b[39m\u001b[33m'\u001b[39m], df[col])\n",
      "\u001b[31mValueError\u001b[39m: 'John Wax' not found in dataset."
     ]
    }
   ],
   "source": [
    "res = recommend_by_jaccard(\"John Wax\", anime_df, type='Themes', combine=False)"
   ]
  },
  {
   "cell_type": "code",
   "execution_count": 23,
   "id": "53bd7e72",
   "metadata": {},
   "outputs": [],
   "source": [
    "with open(\"dropJthemes.pkl\", \"rb\") as f:\n",
    "    d = pickle.load(f)\n",
    "with open(\"dropJgenres.pkl\", \"rb\") as f:\n",
    "    e = pickle.load(f)"
   ]
  },
  {
   "cell_type": "code",
   "execution_count": 24,
   "id": "949b0ab5",
   "metadata": {},
   "outputs": [],
   "source": [
    "ress = recommend_by_jaccard(\"One Punch Man\", anime_df, type='Themes', combine=False, precomputed=d)\n"
   ]
  },
  {
   "cell_type": "code",
   "execution_count": 41,
   "id": "0fe0c96c",
   "metadata": {},
   "outputs": [
    {
     "data": {
      "text/plain": [
       "{'top': English\n",
       " Samurai Flamenco                   1.0\n",
       " Nanako SOS                         1.0\n",
       " One Punch Man Specials             1.0\n",
       " One Punch Man Season 2 Specials    1.0\n",
       " GJ8man \"Highlights\"                1.0\n",
       " Name: One Punch Man, dtype: float64}"
      ]
     },
     "execution_count": 41,
     "metadata": {},
     "output_type": "execute_result"
    }
   ],
   "source": [
    "res"
   ]
  },
  {
   "cell_type": "code",
   "execution_count": 25,
   "id": "b1f4a860",
   "metadata": {},
   "outputs": [
    {
     "data": {
      "text/plain": [
       "{'top': English\n",
       " Samurai Flamenco                   1.0\n",
       " Nanako SOS                         1.0\n",
       " One Punch Man Specials             1.0\n",
       " One Punch Man Season 2 Specials    1.0\n",
       " GJ8man \"Highlights\"                1.0\n",
       " Name: One Punch Man, dtype: float64}"
      ]
     },
     "execution_count": 25,
     "metadata": {},
     "output_type": "execute_result"
    }
   ],
   "source": [
    "ress"
   ]
  },
  {
   "cell_type": "code",
   "execution_count": 26,
   "id": "03167a51",
   "metadata": {},
   "outputs": [],
   "source": [
    "spot = {'genre': e, 'theme': d}"
   ]
  },
  {
   "cell_type": "code",
   "execution_count": 27,
   "id": "2d356fa4",
   "metadata": {},
   "outputs": [],
   "source": [
    "resss = recommend_by_jaccard(\"One Punch Man\", anime_df, top_n=30, combine=True, precomputed=spot)"
   ]
  },
  {
   "cell_type": "code",
   "execution_count": 28,
   "id": "142e2672",
   "metadata": {},
   "outputs": [
    {
     "data": {
      "text/plain": [
       "{'common': ['One Punch Man Specials',\n",
       "  'One Punch Man 3',\n",
       "  'One Punch Man Season 2',\n",
       "  'One Punch Man',\n",
       "  'One Punch Man 2nd Season Commemorative Special']}"
      ]
     },
     "execution_count": 28,
     "metadata": {},
     "output_type": "execute_result"
    }
   ],
   "source": [
    "resss"
   ]
  },
  {
   "cell_type": "code",
   "execution_count": 19,
   "id": "4ee9ee11",
   "metadata": {},
   "outputs": [],
   "source": [
    "def recommend_similar_anime(title, anime_df, top_n, precomputed=None):\n",
    "    '''\n",
    "    Recommend the most similar anime based on TF-IDF cosine similarity of the synopsis.\n",
    "    title: str\n",
    "        The English title of the anime for which to find similar recommendations.\n",
    "\n",
    "    anime_df: pd.DataFrame\n",
    "        The full anime dataset containing at least the 'English' and 'Synopsis' columns.\n",
    "\n",
    "    top_n: int\n",
    "        The number of top similar anime to return (excluding the anime itself).\n",
    "\n",
    "    precomputed=None: np array\n",
    "        A precomputed cosine similarity matrix. If None, the function will compute it.\n",
    "\n",
    "    Returns:\n",
    "    pd.Series\n",
    "        A pandas Series of the top N most similar anime titles and their similarity scores,\n",
    "        sorted in descending order.\n",
    "    '''\n",
    "    if title not in anime_df['English'].values:\n",
    "        raise ValueError(f\"'{title}' not found in dataset.\")\n",
    "    \n",
    "\n",
    "    df_content = anime_df[[\"English\", \"Synopsis\"]]\n",
    "    \n",
    "    df_content = df_content[(df_content['Synopsis'] != 'Unknown') & (df_content['English'] != 'Unknown')]\n",
    "\n",
    "    cosine_similarity_array = precomputed\n",
    "    if cosine_similarity_array is not None:\n",
    "        vectorizer = TfidfVectorizer(min_df=2, max_df=0.7, stop_words='english')\n",
    "        vectorized_data = vectorizer.fit_transform(df_content['Synopsis'])\n",
    "\n",
    "        tfidf_df = pd.DataFrame(\n",
    "        vectorized_data.toarray(),\n",
    "        columns=vectorizer.get_feature_names_out()\n",
    "        )\n",
    "\n",
    "        tfidf_df.index = df_content['English']\n",
    "\n",
    "        cosine_similarity_df = pd.DataFrame(\n",
    "        cosine_similarity_array,\n",
    "        index=tfidf_df.index,\n",
    "        columns=tfidf_df.index\n",
    "        )\n",
    "        cosine_similarity_series = cosine_similarity_df.loc[title]\n",
    "        ordered_similarities = cosine_similarity_series.sort_values(ascending=False)\n",
    "        return {\"top\": ordered_similarities}\n",
    "\n",
    "        \n",
    "    else:\n",
    "        vectorizer = TfidfVectorizer(min_df=2, max_df=0.7, stop_words='english')\n",
    "        vectorized_data = vectorizer.fit_transform(df_content['Synopsis'])\n",
    "\n",
    "        tfidf_df = pd.DataFrame(\n",
    "        vectorized_data.toarray(),\n",
    "        columns=vectorizer.get_feature_names_out()\n",
    "        )\n",
    "\n",
    "        tfidf_df.index = df_content['English']\n",
    "        cosine_similarity_array = cosine_similarity(tfidf_df)\n",
    "\n",
    "        cosine_similarity_df = pd.DataFrame(\n",
    "        cosine_similarity_array,\n",
    "        index=tfidf_df.index,\n",
    "        columns=tfidf_df.index\n",
    "        )\n",
    "        cosine_similarity_series = cosine_similarity_df.loc[title]\n",
    "        ordered_similarities = cosine_similarity_series.sort_values(ascending=False)[1:top_n+1]\n",
    "        return {\"top\": ordered_similarities}\n"
   ]
  },
  {
   "cell_type": "code",
   "execution_count": 12,
   "id": "c1ae5a9b",
   "metadata": {},
   "outputs": [],
   "source": [
    "# to load\n",
    "with open(\"coSim_ESdrop.pkl\", \"rb\") as f:\n",
    "    cosine_similarity_array = pickle.load(f)\n",
    "\n"
   ]
  },
  {
   "cell_type": "code",
   "execution_count": 20,
   "id": "7a0f8779",
   "metadata": {},
   "outputs": [
    {
     "data": {
      "text/plain": [
       "{'top': English\n",
       " Death Note                                     1.000000\n",
       " Death Note Relight                             0.324576\n",
       " gdgd men's Party                               0.130101\n",
       " Screechers Wild!                               0.128386\n",
       " Yadamon Magical Dreamer                        0.123091\n",
       "                                                  ...   \n",
       " One Room 2nd Season Hanasaka Yui's Prologue    0.000000\n",
       " Evil Woman Executive                           0.000000\n",
       " Alice in Voodooland                            0.000000\n",
       " Hot Minute Gudetama                            0.000000\n",
       " Scumbag System Season 2                        0.000000\n",
       " Name: Death Note, Length: 8409, dtype: float64}"
      ]
     },
     "execution_count": 20,
     "metadata": {},
     "output_type": "execute_result"
    }
   ],
   "source": [
    "recommend_similar_anime(\"Death Note\", anime_df, 5, cosine_similarity_array)"
   ]
  }
 ],
 "metadata": {
  "kernelspec": {
   "display_name": "Python 3",
   "language": "python",
   "name": "python3"
  },
  "language_info": {
   "codemirror_mode": {
    "name": "ipython",
    "version": 3
   },
   "file_extension": ".py",
   "mimetype": "text/x-python",
   "name": "python",
   "nbconvert_exporter": "python",
   "pygments_lexer": "ipython3",
   "version": "3.12.4"
  }
 },
 "nbformat": 4,
 "nbformat_minor": 5
}
