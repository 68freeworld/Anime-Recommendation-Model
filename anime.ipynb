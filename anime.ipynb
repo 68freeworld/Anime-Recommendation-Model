{
 "cells": [
  {
   "cell_type": "code",
   "execution_count": 1,
   "metadata": {},
   "outputs": [],
   "source": [
    "import pandas as pd\n",
    "import numpy as np\n",
    "from sklearn.feature_extraction.text import TfidfVectorizer  # For converting text data into TF-IDF vectors\n",
    "from sklearn.metrics.pairwise import cosine_similarity  # For computing cosine similarity between vectors\n",
    "\n",
    "# pd.set_option('display.max_columns', None)\n",
    "pd.set_option('display.max_columns', 10)\n",
    "pd.set_option('display.max_rows', 10)\n"
   ]
  },
  {
   "cell_type": "code",
   "execution_count": 2,
   "metadata": {},
   "outputs": [],
   "source": [
    "anime_df = pd.read_csv('AnimeNEW.csv')"
   ]
  },
  {
   "cell_type": "markdown",
   "metadata": {},
   "source": [
    "Exploratory Data Analysis"
   ]
  },
  {
   "cell_type": "code",
   "execution_count": 3,
   "metadata": {},
   "outputs": [
    {
     "data": {
      "text/html": [
       "<div>\n",
       "<style scoped>\n",
       "    .dataframe tbody tr th:only-of-type {\n",
       "        vertical-align: middle;\n",
       "    }\n",
       "\n",
       "    .dataframe tbody tr th {\n",
       "        vertical-align: top;\n",
       "    }\n",
       "\n",
       "    .dataframe thead th {\n",
       "        text-align: right;\n",
       "    }\n",
       "</style>\n",
       "<table border=\"1\" class=\"dataframe\">\n",
       "  <thead>\n",
       "    <tr style=\"text-align: right;\">\n",
       "      <th></th>\n",
       "      <th>ID</th>\n",
       "      <th>Title</th>\n",
       "      <th>Synonyms</th>\n",
       "      <th>Japanese</th>\n",
       "      <th>English</th>\n",
       "      <th>...</th>\n",
       "      <th>Scored_Users</th>\n",
       "      <th>Ranked</th>\n",
       "      <th>Popularity</th>\n",
       "      <th>Members</th>\n",
       "      <th>Favorites</th>\n",
       "    </tr>\n",
       "  </thead>\n",
       "  <tbody>\n",
       "    <tr>\n",
       "      <th>0</th>\n",
       "      <td>16498</td>\n",
       "      <td>Shingeki no Kyojin</td>\n",
       "      <td>AoT, SnK</td>\n",
       "      <td>進撃の巨人</td>\n",
       "      <td>Attack on Titan</td>\n",
       "      <td>...</td>\n",
       "      <td>519803.0</td>\n",
       "      <td>1002.0</td>\n",
       "      <td>1</td>\n",
       "      <td>3524109</td>\n",
       "      <td>155695</td>\n",
       "    </tr>\n",
       "    <tr>\n",
       "      <th>1</th>\n",
       "      <td>1535</td>\n",
       "      <td>Death Note</td>\n",
       "      <td>DN</td>\n",
       "      <td>デスノート</td>\n",
       "      <td>Death Note</td>\n",
       "      <td>...</td>\n",
       "      <td>485487.0</td>\n",
       "      <td>732.0</td>\n",
       "      <td>2</td>\n",
       "      <td>3504535</td>\n",
       "      <td>159701</td>\n",
       "    </tr>\n",
       "    <tr>\n",
       "      <th>2</th>\n",
       "      <td>5114</td>\n",
       "      <td>Fullmetal Alchemist: Brotherhood</td>\n",
       "      <td>Hagane no Renkinjutsushi Fullmetal Alchemist, ...</td>\n",
       "      <td>鋼の錬金術師 FULLMETAL ALCHEMIST</td>\n",
       "      <td>Fullmetal Alchemist Brotherhood</td>\n",
       "      <td>...</td>\n",
       "      <td>900398.0</td>\n",
       "      <td>12.0</td>\n",
       "      <td>3</td>\n",
       "      <td>2978455</td>\n",
       "      <td>207772</td>\n",
       "    </tr>\n",
       "    <tr>\n",
       "      <th>3</th>\n",
       "      <td>30276</td>\n",
       "      <td>One Punch Man</td>\n",
       "      <td>One Punch-Man, One-Punch Man, OPM</td>\n",
       "      <td>ワンパンマン</td>\n",
       "      <td>One Punch Man</td>\n",
       "      <td>...</td>\n",
       "      <td>19066.0</td>\n",
       "      <td>1112.0</td>\n",
       "      <td>4</td>\n",
       "      <td>2879907</td>\n",
       "      <td>59651</td>\n",
       "    </tr>\n",
       "    <tr>\n",
       "      <th>4</th>\n",
       "      <td>11757</td>\n",
       "      <td>Sword Art Online</td>\n",
       "      <td>S.A.O, SAO</td>\n",
       "      <td>ソードアート・オンライン</td>\n",
       "      <td>Sword Art Online</td>\n",
       "      <td>...</td>\n",
       "      <td>990254.0</td>\n",
       "      <td>29562.0</td>\n",
       "      <td>5</td>\n",
       "      <td>2813565</td>\n",
       "      <td>64997</td>\n",
       "    </tr>\n",
       "  </tbody>\n",
       "</table>\n",
       "<p>5 rows × 28 columns</p>\n",
       "</div>"
      ],
      "text/plain": [
       "      ID                             Title  \\\n",
       "0  16498                Shingeki no Kyojin   \n",
       "1   1535                        Death Note   \n",
       "2   5114  Fullmetal Alchemist: Brotherhood   \n",
       "3  30276                     One Punch Man   \n",
       "4  11757                  Sword Art Online   \n",
       "\n",
       "                                            Synonyms  \\\n",
       "0                                           AoT, SnK   \n",
       "1                                                 DN   \n",
       "2  Hagane no Renkinjutsushi Fullmetal Alchemist, ...   \n",
       "3                  One Punch-Man, One-Punch Man, OPM   \n",
       "4                                         S.A.O, SAO   \n",
       "\n",
       "                     Japanese                          English  ...  \\\n",
       "0                       進撃の巨人                  Attack on Titan  ...   \n",
       "1                       デスノート                       Death Note  ...   \n",
       "2  鋼の錬金術師 FULLMETAL ALCHEMIST  Fullmetal Alchemist Brotherhood  ...   \n",
       "3                      ワンパンマン                    One Punch Man  ...   \n",
       "4                ソードアート・オンライン                 Sword Art Online  ...   \n",
       "\n",
       "  Scored_Users   Ranked  Popularity  Members Favorites  \n",
       "0     519803.0   1002.0           1  3524109    155695  \n",
       "1     485487.0    732.0           2  3504535    159701  \n",
       "2     900398.0     12.0           3  2978455    207772  \n",
       "3      19066.0   1112.0           4  2879907     59651  \n",
       "4     990254.0  29562.0           5  2813565     64997  \n",
       "\n",
       "[5 rows x 28 columns]"
      ]
     },
     "execution_count": 3,
     "metadata": {},
     "output_type": "execute_result"
    }
   ],
   "source": [
    "anime_df.head()"
   ]
  },
  {
   "cell_type": "code",
   "execution_count": 4,
   "metadata": {},
   "outputs": [
    {
     "data": {
      "text/plain": [
       "(21460, 28)"
      ]
     },
     "execution_count": 4,
     "metadata": {},
     "output_type": "execute_result"
    }
   ],
   "source": [
    "anime_df.shape"
   ]
  },
  {
   "cell_type": "code",
   "execution_count": 5,
   "metadata": {},
   "outputs": [
    {
     "data": {
      "text/plain": [
       "21460"
      ]
     },
     "execution_count": 5,
     "metadata": {},
     "output_type": "execute_result"
    }
   ],
   "source": [
    "anime_df['ID'].nunique()"
   ]
  },
  {
   "cell_type": "markdown",
   "metadata": {},
   "source": [
    "Viewing Top 50 Ranked animes"
   ]
  },
  {
   "cell_type": "code",
   "execution_count": 6,
   "metadata": {},
   "outputs": [
    {
     "data": {
      "text/html": [
       "<div>\n",
       "<style scoped>\n",
       "    .dataframe tbody tr th:only-of-type {\n",
       "        vertical-align: middle;\n",
       "    }\n",
       "\n",
       "    .dataframe tbody tr th {\n",
       "        vertical-align: top;\n",
       "    }\n",
       "\n",
       "    .dataframe thead th {\n",
       "        text-align: right;\n",
       "    }\n",
       "</style>\n",
       "<table border=\"1\" class=\"dataframe\">\n",
       "  <thead>\n",
       "    <tr style=\"text-align: right;\">\n",
       "      <th></th>\n",
       "      <th>Title</th>\n",
       "    </tr>\n",
       "  </thead>\n",
       "  <tbody>\n",
       "    <tr>\n",
       "      <th>1</th>\n",
       "      <td>Fullmetal Alchemist: Brotherhood</td>\n",
       "    </tr>\n",
       "    <tr>\n",
       "      <th>2</th>\n",
       "      <td>Kaguya-sama wa Kokurasetai: Ultra Romantic</td>\n",
       "    </tr>\n",
       "    <tr>\n",
       "      <th>3</th>\n",
       "      <td>Gintama°</td>\n",
       "    </tr>\n",
       "    <tr>\n",
       "      <th>4</th>\n",
       "      <td>Steins;Gate</td>\n",
       "    </tr>\n",
       "    <tr>\n",
       "      <th>5</th>\n",
       "      <td>Shingeki no Kyojin Season 3 Part 2</td>\n",
       "    </tr>\n",
       "    <tr>\n",
       "      <th>...</th>\n",
       "      <td>...</td>\n",
       "    </tr>\n",
       "    <tr>\n",
       "      <th>46</th>\n",
       "      <td>Rurouni Kenshin: Meiji Kenkaku Romantan - Tsui...</td>\n",
       "    </tr>\n",
       "    <tr>\n",
       "      <th>47</th>\n",
       "      <td>86 Part 2</td>\n",
       "    </tr>\n",
       "    <tr>\n",
       "      <th>48</th>\n",
       "      <td>Ashita no Joe 2</td>\n",
       "    </tr>\n",
       "    <tr>\n",
       "      <th>49</th>\n",
       "      <td>Code Geass: Hangyaku no Lelouch</td>\n",
       "    </tr>\n",
       "    <tr>\n",
       "      <th>50</th>\n",
       "      <td>Fate/stay night Movie: Heaven's Feel - III. Sp...</td>\n",
       "    </tr>\n",
       "  </tbody>\n",
       "</table>\n",
       "<p>50 rows × 1 columns</p>\n",
       "</div>"
      ],
      "text/plain": [
       "                                                Title\n",
       "1                    Fullmetal Alchemist: Brotherhood\n",
       "2          Kaguya-sama wa Kokurasetai: Ultra Romantic\n",
       "3                                            Gintama°\n",
       "4                                         Steins;Gate\n",
       "5                  Shingeki no Kyojin Season 3 Part 2\n",
       "..                                                ...\n",
       "46  Rurouni Kenshin: Meiji Kenkaku Romantan - Tsui...\n",
       "47                                          86 Part 2\n",
       "48                                    Ashita no Joe 2\n",
       "49                    Code Geass: Hangyaku no Lelouch\n",
       "50  Fate/stay night Movie: Heaven's Feel - III. Sp...\n",
       "\n",
       "[50 rows x 1 columns]"
      ]
     },
     "execution_count": 6,
     "metadata": {},
     "output_type": "execute_result"
    }
   ],
   "source": [
    "Top_animes = anime_df.sort_values(by=\"Ranked\") \n",
    "Names = Top_animes[\"Title\"].reset_index()\n",
    "Names = Names.drop('index', axis=1)\n",
    "Names.index = Names.index + 1\n",
    "Names.head(50)"
   ]
  },
  {
   "cell_type": "markdown",
   "metadata": {},
   "source": [
    "All Possible Genres"
   ]
  },
  {
   "cell_type": "code",
   "execution_count": 7,
   "metadata": {},
   "outputs": [
    {
     "data": {
      "text/plain": [
       "array(['Action', 'Drama', 'Supernatural', 'Suspense', 'Adventure',\n",
       "       'Fantasy', 'Comedy', 'Romance', 'Horror', 'Sci-Fi', 'Ecchi',\n",
       "       'Mystery', 'Sports', 'Award Winning', 'Avant Garde',\n",
       "       'Slice of Life', 'Gourmet', 'Boys Love', 'Unknown', 'Girls Love',\n",
       "       'Hentai', 'Erotica'], dtype=object)"
      ]
     },
     "execution_count": 7,
     "metadata": {},
     "output_type": "execute_result"
    }
   ],
   "source": [
    "possible_genres = anime_df['Genres'].str.split(',').explode().str.strip().unique()\n",
    "possible_genres"
   ]
  },
  {
   "cell_type": "markdown",
   "metadata": {},
   "source": [
    "All Possible Themes"
   ]
  },
  {
   "cell_type": "code",
   "execution_count": 8,
   "metadata": {},
   "outputs": [
    {
     "data": {
      "text/plain": [
       "array(['Gore', 'Military', 'Survival', 'Psychological', 'Parody',\n",
       "       'Super Power', 'Love Polygon', 'Video Game', 'School',\n",
       "       'Martial Arts', 'Historical', 'Unknown', 'Romantic Subtext',\n",
       "       'Time Travel', 'Isekai', 'Strategy Game', 'Mecha', 'Music',\n",
       "       'Mythology', 'High Stakes Game', 'Team Sports', 'Reincarnation',\n",
       "       'Adult Cast', 'Space', 'Detective', 'Vampire', 'Harem',\n",
       "       'Mahou Shoujo', 'Visual Arts', 'Samurai', 'Crossdressing',\n",
       "       'Reverse Harem', 'Childcare', 'Delinquents', 'CGDCT', 'Gag Humor',\n",
       "       'Organized Crime', 'Otaku Culture', 'Workplace', 'Iyashikei',\n",
       "       'Anthropomorphic', 'Educational', 'Medical', 'Showbiz',\n",
       "       'Combat Sports', 'Idols (Female)', 'Performing Arts', 'Racing',\n",
       "       'Magical Sex Shift', 'Idols (Male)', 'Pets'], dtype=object)"
      ]
     },
     "execution_count": 8,
     "metadata": {},
     "output_type": "execute_result"
    }
   ],
   "source": [
    "possible_themes = anime_df['Themes'].str.split(',').explode().str.strip().unique()\n",
    "possible_themes"
   ]
  },
  {
   "cell_type": "markdown",
   "metadata": {},
   "source": [
    "Possible Age Rating"
   ]
  },
  {
   "cell_type": "code",
   "execution_count": 9,
   "metadata": {},
   "outputs": [
    {
     "data": {
      "text/plain": [
       "array(['R - 17+ (violence & profanity)', 'PG-13 - Teens 13 or older',\n",
       "       'R+ - Mild Nudity', 'PG - Children', 'G - All Ages', nan,\n",
       "       'Rx - Hentai'], dtype=object)"
      ]
     },
     "execution_count": 9,
     "metadata": {},
     "output_type": "execute_result"
    }
   ],
   "source": [
    "possible_dem = anime_df['Rating'].str.split(',').explode().str.strip().unique()\n",
    "possible_dem"
   ]
  },
  {
   "cell_type": "code",
   "execution_count": 10,
   "metadata": {},
   "outputs": [
    {
     "data": {
      "text/html": [
       "<div>\n",
       "<style scoped>\n",
       "    .dataframe tbody tr th:only-of-type {\n",
       "        vertical-align: middle;\n",
       "    }\n",
       "\n",
       "    .dataframe tbody tr th {\n",
       "        vertical-align: top;\n",
       "    }\n",
       "\n",
       "    .dataframe thead th {\n",
       "        text-align: right;\n",
       "    }\n",
       "</style>\n",
       "<table border=\"1\" class=\"dataframe\">\n",
       "  <thead>\n",
       "    <tr style=\"text-align: right;\">\n",
       "      <th></th>\n",
       "      <th>English</th>\n",
       "      <th>Synopsis</th>\n",
       "    </tr>\n",
       "  </thead>\n",
       "  <tbody>\n",
       "    <tr>\n",
       "      <th>0</th>\n",
       "      <td>Attack on Titan</td>\n",
       "      <td>Centuries ago, mankind was slaughtered to near...</td>\n",
       "    </tr>\n",
       "    <tr>\n",
       "      <th>1</th>\n",
       "      <td>Death Note</td>\n",
       "      <td>Brutal murders, petty thefts, and senseless vi...</td>\n",
       "    </tr>\n",
       "    <tr>\n",
       "      <th>2</th>\n",
       "      <td>Fullmetal Alchemist Brotherhood</td>\n",
       "      <td>After a horrific alchemy experiment goes wrong...</td>\n",
       "    </tr>\n",
       "    <tr>\n",
       "      <th>3</th>\n",
       "      <td>One Punch Man</td>\n",
       "      <td>The seemingly unimpressive Saitama has a rathe...</td>\n",
       "    </tr>\n",
       "    <tr>\n",
       "      <th>4</th>\n",
       "      <td>Sword Art Online</td>\n",
       "      <td>Ever since the release of the innovative Nerve...</td>\n",
       "    </tr>\n",
       "  </tbody>\n",
       "</table>\n",
       "</div>"
      ],
      "text/plain": [
       "                           English  \\\n",
       "0                  Attack on Titan   \n",
       "1                       Death Note   \n",
       "2  Fullmetal Alchemist Brotherhood   \n",
       "3                    One Punch Man   \n",
       "4                 Sword Art Online   \n",
       "\n",
       "                                            Synopsis  \n",
       "0  Centuries ago, mankind was slaughtered to near...  \n",
       "1  Brutal murders, petty thefts, and senseless vi...  \n",
       "2  After a horrific alchemy experiment goes wrong...  \n",
       "3  The seemingly unimpressive Saitama has a rathe...  \n",
       "4  Ever since the release of the innovative Nerve...  "
      ]
     },
     "execution_count": 10,
     "metadata": {},
     "output_type": "execute_result"
    }
   ],
   "source": [
    "df_content = anime_df[[\"English\", \"Synopsis\"]]\n",
    "df_content.head()"
   ]
  },
  {
   "cell_type": "code",
   "execution_count": 11,
   "metadata": {},
   "outputs": [],
   "source": [
    "# Instantiate a TfidfVectorizer with parameters to remove stop words and filter out very common/rare terms\n",
    "vectorizer = TfidfVectorizer(min_df=2, max_df=0.7, stop_words='english')"
   ]
  },
  {
   "cell_type": "code",
   "execution_count": 12,
   "metadata": {},
   "outputs": [],
   "source": [
    "# Fit the vectorizer on the 'plot' column and transform the text into TF-IDF vectors\n",
    "vectorized_data = vectorizer.fit_transform(df_content['Synopsis'])"
   ]
  },
  {
   "cell_type": "code",
   "execution_count": 13,
   "metadata": {},
   "outputs": [
    {
     "name": "stdout",
     "output_type": "stream",
     "text": [
      "['00' '000' '000th' ... 'アニメ' 'コミック' 'レンタマン']\n"
     ]
    }
   ],
   "source": [
    "# Explore the generated features (vocabulary terms)\n",
    "print(vectorizer.get_feature_names_out())\n",
    "#some japanese words here"
   ]
  },
  {
   "cell_type": "code",
   "execution_count": 14,
   "metadata": {},
   "outputs": [],
   "source": [
    "# Convert the TF-IDF sparse matrix to a DataFrame with feature names as columns\n",
    "tfidf_df = pd.DataFrame(\n",
    "    vectorized_data.toarray(),\n",
    "    columns=vectorizer.get_feature_names_out()\n",
    ")"
   ]
  },
  {
   "cell_type": "code",
   "execution_count": 15,
   "metadata": {},
   "outputs": [
    {
     "data": {
      "text/html": [
       "<div>\n",
       "<style scoped>\n",
       "    .dataframe tbody tr th:only-of-type {\n",
       "        vertical-align: middle;\n",
       "    }\n",
       "\n",
       "    .dataframe tbody tr th {\n",
       "        vertical-align: top;\n",
       "    }\n",
       "\n",
       "    .dataframe thead th {\n",
       "        text-align: right;\n",
       "    }\n",
       "</style>\n",
       "<table border=\"1\" class=\"dataframe\">\n",
       "  <thead>\n",
       "    <tr style=\"text-align: right;\">\n",
       "      <th></th>\n",
       "      <th>00</th>\n",
       "      <th>000</th>\n",
       "      <th>000th</th>\n",
       "      <th>001</th>\n",
       "      <th>007</th>\n",
       "      <th>...</th>\n",
       "      <th>źooļ</th>\n",
       "      <th>おとぎ話</th>\n",
       "      <th>アニメ</th>\n",
       "      <th>コミック</th>\n",
       "      <th>レンタマン</th>\n",
       "    </tr>\n",
       "  </thead>\n",
       "  <tbody>\n",
       "    <tr>\n",
       "      <th>0</th>\n",
       "      <td>0.0</td>\n",
       "      <td>0.0</td>\n",
       "      <td>0.0</td>\n",
       "      <td>0.0</td>\n",
       "      <td>0.0</td>\n",
       "      <td>...</td>\n",
       "      <td>0.0</td>\n",
       "      <td>0.0</td>\n",
       "      <td>0.0</td>\n",
       "      <td>0.0</td>\n",
       "      <td>0.0</td>\n",
       "    </tr>\n",
       "    <tr>\n",
       "      <th>1</th>\n",
       "      <td>0.0</td>\n",
       "      <td>0.0</td>\n",
       "      <td>0.0</td>\n",
       "      <td>0.0</td>\n",
       "      <td>0.0</td>\n",
       "      <td>...</td>\n",
       "      <td>0.0</td>\n",
       "      <td>0.0</td>\n",
       "      <td>0.0</td>\n",
       "      <td>0.0</td>\n",
       "      <td>0.0</td>\n",
       "    </tr>\n",
       "    <tr>\n",
       "      <th>2</th>\n",
       "      <td>0.0</td>\n",
       "      <td>0.0</td>\n",
       "      <td>0.0</td>\n",
       "      <td>0.0</td>\n",
       "      <td>0.0</td>\n",
       "      <td>...</td>\n",
       "      <td>0.0</td>\n",
       "      <td>0.0</td>\n",
       "      <td>0.0</td>\n",
       "      <td>0.0</td>\n",
       "      <td>0.0</td>\n",
       "    </tr>\n",
       "    <tr>\n",
       "      <th>3</th>\n",
       "      <td>0.0</td>\n",
       "      <td>0.0</td>\n",
       "      <td>0.0</td>\n",
       "      <td>0.0</td>\n",
       "      <td>0.0</td>\n",
       "      <td>...</td>\n",
       "      <td>0.0</td>\n",
       "      <td>0.0</td>\n",
       "      <td>0.0</td>\n",
       "      <td>0.0</td>\n",
       "      <td>0.0</td>\n",
       "    </tr>\n",
       "    <tr>\n",
       "      <th>4</th>\n",
       "      <td>0.0</td>\n",
       "      <td>0.0</td>\n",
       "      <td>0.0</td>\n",
       "      <td>0.0</td>\n",
       "      <td>0.0</td>\n",
       "      <td>...</td>\n",
       "      <td>0.0</td>\n",
       "      <td>0.0</td>\n",
       "      <td>0.0</td>\n",
       "      <td>0.0</td>\n",
       "      <td>0.0</td>\n",
       "    </tr>\n",
       "  </tbody>\n",
       "</table>\n",
       "<p>5 rows × 25833 columns</p>\n",
       "</div>"
      ],
      "text/plain": [
       "    00  000  000th  001  007  ...  źooļ  おとぎ話  アニメ  コミック  レンタマン\n",
       "0  0.0  0.0    0.0  0.0  0.0  ...   0.0   0.0  0.0   0.0    0.0\n",
       "1  0.0  0.0    0.0  0.0  0.0  ...   0.0   0.0  0.0   0.0    0.0\n",
       "2  0.0  0.0    0.0  0.0  0.0  ...   0.0   0.0  0.0   0.0    0.0\n",
       "3  0.0  0.0    0.0  0.0  0.0  ...   0.0   0.0  0.0   0.0    0.0\n",
       "4  0.0  0.0    0.0  0.0  0.0  ...   0.0   0.0  0.0   0.0    0.0\n",
       "\n",
       "[5 rows x 25833 columns]"
      ]
     },
     "execution_count": 15,
     "metadata": {},
     "output_type": "execute_result"
    }
   ],
   "source": [
    "tfidf_df.head()\n",
    "# max columns LOOOOL"
   ]
  },
  {
   "cell_type": "code",
   "execution_count": 16,
   "metadata": {},
   "outputs": [],
   "source": [
    "# Assign the show titles to the DataFrame's index for easier reference\n",
    "tfidf_df.index = df_content['English']\n",
    "# tfidf_df.head()"
   ]
  },
  {
   "cell_type": "code",
   "execution_count": 17,
   "metadata": {},
   "outputs": [],
   "source": [
    "cosine_similarity_array = cosine_similarity(tfidf_df)\n"
   ]
  },
  {
   "cell_type": "code",
   "execution_count": 18,
   "metadata": {},
   "outputs": [
    {
     "name": "stdout",
     "output_type": "stream",
     "text": [
      "[[1.         0.03776806 0.03859335 ... 0.         0.         0.        ]\n",
      " [0.03776806 1.         0.03100892 ... 0.         0.         0.        ]\n",
      " [0.03859335 0.03100892 1.         ... 0.         0.         0.        ]\n",
      " ...\n",
      " [0.         0.         0.         ... 1.         1.         1.        ]\n",
      " [0.         0.         0.         ... 1.         1.         1.        ]\n",
      " [0.         0.         0.         ... 1.         1.         1.        ]]\n"
     ]
    }
   ],
   "source": [
    "print(cosine_similarity_array)"
   ]
  },
  {
   "cell_type": "code",
   "execution_count": 19,
   "metadata": {},
   "outputs": [],
   "source": [
    "# Convert the cosine similarity array into a DataFrame with show titles as both index and columns\n",
    "cosine_similarity_df = pd.DataFrame(\n",
    "    cosine_similarity_array,\n",
    "    index=tfidf_df.index,\n",
    "    columns=tfidf_df.index\n",
    ")\n"
   ]
  },
  {
   "cell_type": "code",
   "execution_count": 20,
   "metadata": {},
   "outputs": [
    {
     "data": {
      "text/html": [
       "<div>\n",
       "<style scoped>\n",
       "    .dataframe tbody tr th:only-of-type {\n",
       "        vertical-align: middle;\n",
       "    }\n",
       "\n",
       "    .dataframe tbody tr th {\n",
       "        vertical-align: top;\n",
       "    }\n",
       "\n",
       "    .dataframe thead th {\n",
       "        text-align: right;\n",
       "    }\n",
       "</style>\n",
       "<table border=\"1\" class=\"dataframe\">\n",
       "  <thead>\n",
       "    <tr style=\"text-align: right;\">\n",
       "      <th>English</th>\n",
       "      <th>Attack on Titan</th>\n",
       "      <th>Death Note</th>\n",
       "      <th>Fullmetal Alchemist Brotherhood</th>\n",
       "      <th>One Punch Man</th>\n",
       "      <th>Sword Art Online</th>\n",
       "      <th>...</th>\n",
       "      <th>Princess and the Kingdom</th>\n",
       "      <th>Avera and the Mystical Kingdom 2</th>\n",
       "      <th>Brave City</th>\n",
       "      <th>The Juvenile of King Yu</th>\n",
       "      <th>Dino King</th>\n",
       "    </tr>\n",
       "    <tr>\n",
       "      <th>English</th>\n",
       "      <th></th>\n",
       "      <th></th>\n",
       "      <th></th>\n",
       "      <th></th>\n",
       "      <th></th>\n",
       "      <th></th>\n",
       "      <th></th>\n",
       "      <th></th>\n",
       "      <th></th>\n",
       "      <th></th>\n",
       "      <th></th>\n",
       "    </tr>\n",
       "  </thead>\n",
       "  <tbody>\n",
       "    <tr>\n",
       "      <th>Attack on Titan</th>\n",
       "      <td>1.000000</td>\n",
       "      <td>0.037768</td>\n",
       "      <td>0.038593</td>\n",
       "      <td>0.013473</td>\n",
       "      <td>0.017222</td>\n",
       "      <td>...</td>\n",
       "      <td>0.0</td>\n",
       "      <td>0.0</td>\n",
       "      <td>0.0</td>\n",
       "      <td>0.0</td>\n",
       "      <td>0.0</td>\n",
       "    </tr>\n",
       "    <tr>\n",
       "      <th>Death Note</th>\n",
       "      <td>0.037768</td>\n",
       "      <td>1.000000</td>\n",
       "      <td>0.031009</td>\n",
       "      <td>0.015352</td>\n",
       "      <td>0.034031</td>\n",
       "      <td>...</td>\n",
       "      <td>0.0</td>\n",
       "      <td>0.0</td>\n",
       "      <td>0.0</td>\n",
       "      <td>0.0</td>\n",
       "      <td>0.0</td>\n",
       "    </tr>\n",
       "    <tr>\n",
       "      <th>Fullmetal Alchemist Brotherhood</th>\n",
       "      <td>0.038593</td>\n",
       "      <td>0.031009</td>\n",
       "      <td>1.000000</td>\n",
       "      <td>0.015270</td>\n",
       "      <td>0.018750</td>\n",
       "      <td>...</td>\n",
       "      <td>0.0</td>\n",
       "      <td>0.0</td>\n",
       "      <td>0.0</td>\n",
       "      <td>0.0</td>\n",
       "      <td>0.0</td>\n",
       "    </tr>\n",
       "    <tr>\n",
       "      <th>One Punch Man</th>\n",
       "      <td>0.013473</td>\n",
       "      <td>0.015352</td>\n",
       "      <td>0.015270</td>\n",
       "      <td>1.000000</td>\n",
       "      <td>0.024467</td>\n",
       "      <td>...</td>\n",
       "      <td>0.0</td>\n",
       "      <td>0.0</td>\n",
       "      <td>0.0</td>\n",
       "      <td>0.0</td>\n",
       "      <td>0.0</td>\n",
       "    </tr>\n",
       "    <tr>\n",
       "      <th>Sword Art Online</th>\n",
       "      <td>0.017222</td>\n",
       "      <td>0.034031</td>\n",
       "      <td>0.018750</td>\n",
       "      <td>0.024467</td>\n",
       "      <td>1.000000</td>\n",
       "      <td>...</td>\n",
       "      <td>0.0</td>\n",
       "      <td>0.0</td>\n",
       "      <td>0.0</td>\n",
       "      <td>0.0</td>\n",
       "      <td>0.0</td>\n",
       "    </tr>\n",
       "  </tbody>\n",
       "</table>\n",
       "<p>5 rows × 21460 columns</p>\n",
       "</div>"
      ],
      "text/plain": [
       "English                          Attack on Titan  Death Note  \\\n",
       "English                                                        \n",
       "Attack on Titan                         1.000000    0.037768   \n",
       "Death Note                              0.037768    1.000000   \n",
       "Fullmetal Alchemist Brotherhood         0.038593    0.031009   \n",
       "One Punch Man                           0.013473    0.015352   \n",
       "Sword Art Online                        0.017222    0.034031   \n",
       "\n",
       "English                          Fullmetal Alchemist Brotherhood  \\\n",
       "English                                                            \n",
       "Attack on Titan                                         0.038593   \n",
       "Death Note                                              0.031009   \n",
       "Fullmetal Alchemist Brotherhood                         1.000000   \n",
       "One Punch Man                                           0.015270   \n",
       "Sword Art Online                                        0.018750   \n",
       "\n",
       "English                          One Punch Man  Sword Art Online  ...  \\\n",
       "English                                                           ...   \n",
       "Attack on Titan                       0.013473          0.017222  ...   \n",
       "Death Note                            0.015352          0.034031  ...   \n",
       "Fullmetal Alchemist Brotherhood       0.015270          0.018750  ...   \n",
       "One Punch Man                         1.000000          0.024467  ...   \n",
       "Sword Art Online                      0.024467          1.000000  ...   \n",
       "\n",
       "English                          Princess and the Kingdom  \\\n",
       "English                                                     \n",
       "Attack on Titan                                       0.0   \n",
       "Death Note                                            0.0   \n",
       "Fullmetal Alchemist Brotherhood                       0.0   \n",
       "One Punch Man                                         0.0   \n",
       "Sword Art Online                                      0.0   \n",
       "\n",
       "English                          Avera and the Mystical Kingdom 2  Brave City  \\\n",
       "English                                                                         \n",
       "Attack on Titan                                               0.0         0.0   \n",
       "Death Note                                                    0.0         0.0   \n",
       "Fullmetal Alchemist Brotherhood                               0.0         0.0   \n",
       "One Punch Man                                                 0.0         0.0   \n",
       "Sword Art Online                                              0.0         0.0   \n",
       "\n",
       "English                          The Juvenile of King Yu  Dino King  \n",
       "English                                                              \n",
       "Attack on Titan                                      0.0        0.0  \n",
       "Death Note                                           0.0        0.0  \n",
       "Fullmetal Alchemist Brotherhood                      0.0        0.0  \n",
       "One Punch Man                                        0.0        0.0  \n",
       "Sword Art Online                                     0.0        0.0  \n",
       "\n",
       "[5 rows x 21460 columns]"
      ]
     },
     "execution_count": 20,
     "metadata": {},
     "output_type": "execute_result"
    }
   ],
   "source": [
    "cosine_similarity_df.head()\n"
   ]
  },
  {
   "cell_type": "code",
   "execution_count": 26,
   "metadata": {},
   "outputs": [],
   "source": [
    "cosine_similarity_series = cosine_similarity_df.loc[\"Fullmetal Alchemist Brotherhood\"]\n",
    "ordered_similarities = cosine_similarity_series.sort_values(ascending=False)\n"
   ]
  },
  {
   "cell_type": "code",
   "execution_count": 27,
   "metadata": {},
   "outputs": [
    {
     "name": "stdout",
     "output_type": "stream",
     "text": [
      "Fullmetal Alchemist Brotherhood\n",
      "1.0000000000000004\n",
      "\n",
      "Fullmetal Alchemist\n",
      "0.5195248433264401\n",
      "\n",
      "Fullmetal Alchemist The Movie - Conqueror of Shamballa\n",
      "0.32948594319269814\n",
      "\n",
      "Fullmetal Alchemist The Sacred Star of Milos\n",
      "0.2920986234783643\n",
      "\n",
      "Fullmetal Alchemist The Sacred Star of Milos PV\n",
      "0.24123720318108682\n",
      "\n",
      "Fullmetal Alchemist Brotherhood OVA Collection\n",
      "0.16670494501800837\n",
      "\n",
      "Unknown\n",
      "0.1293388714004816\n",
      "\n",
      "Armor Shop for Ladies & Gentlemen\n",
      "0.10944650804141147\n",
      "\n",
      "Ronin Warriors Legend of Kikoutei\n",
      "0.10779497189717217\n",
      "\n",
      "Donten Laughing Under the Clouds - Gaiden Chapter 3 - Conspiracy of the Military\n",
      "0.10604408374321264\n",
      "\n",
      "Diabolik Lovers II More,Blood\n",
      "0.10145054545222647\n",
      "\n",
      "Unknown\n",
      "0.10035316730890212\n",
      "\n"
     ]
    }
   ],
   "source": [
    "pd.set_option('display.max_rows', None)\n",
    "# print(ordered_similarities)\n",
    "\n",
    "for i in range(0,20):\n",
    "    if ordered_similarities.values[i]>0.1:\n",
    "        print(ordered_similarities.index[i])\n",
    "        print(ordered_similarities.values[i])\n",
    "        print(\"\")\n"
   ]
  },
  {
   "cell_type": "code",
   "execution_count": null,
   "metadata": {},
   "outputs": [],
   "source": []
  },
  {
   "cell_type": "code",
   "execution_count": null,
   "metadata": {},
   "outputs": [],
   "source": []
  },
  {
   "cell_type": "code",
   "execution_count": null,
   "metadata": {},
   "outputs": [],
   "source": []
  },
  {
   "cell_type": "code",
   "execution_count": null,
   "metadata": {},
   "outputs": [],
   "source": []
  },
  {
   "cell_type": "code",
   "execution_count": null,
   "metadata": {},
   "outputs": [],
   "source": []
  },
  {
   "cell_type": "code",
   "execution_count": null,
   "metadata": {},
   "outputs": [],
   "source": []
  },
  {
   "cell_type": "code",
   "execution_count": null,
   "metadata": {},
   "outputs": [],
   "source": []
  },
  {
   "cell_type": "code",
   "execution_count": null,
   "metadata": {},
   "outputs": [],
   "source": []
  },
  {
   "cell_type": "code",
   "execution_count": null,
   "metadata": {},
   "outputs": [],
   "source": []
  },
  {
   "cell_type": "code",
   "execution_count": null,
   "metadata": {},
   "outputs": [],
   "source": []
  },
  {
   "cell_type": "code",
   "execution_count": null,
   "metadata": {},
   "outputs": [],
   "source": []
  },
  {
   "cell_type": "code",
   "execution_count": null,
   "metadata": {},
   "outputs": [],
   "source": []
  },
  {
   "cell_type": "code",
   "execution_count": null,
   "metadata": {},
   "outputs": [],
   "source": []
  },
  {
   "cell_type": "code",
   "execution_count": null,
   "metadata": {},
   "outputs": [],
   "source": []
  },
  {
   "cell_type": "code",
   "execution_count": null,
   "metadata": {},
   "outputs": [],
   "source": []
  },
  {
   "cell_type": "code",
   "execution_count": null,
   "metadata": {},
   "outputs": [],
   "source": []
  },
  {
   "cell_type": "code",
   "execution_count": null,
   "metadata": {},
   "outputs": [],
   "source": []
  },
  {
   "cell_type": "code",
   "execution_count": null,
   "metadata": {},
   "outputs": [],
   "source": []
  },
  {
   "cell_type": "code",
   "execution_count": null,
   "metadata": {},
   "outputs": [],
   "source": []
  },
  {
   "cell_type": "code",
   "execution_count": null,
   "metadata": {},
   "outputs": [],
   "source": []
  },
  {
   "cell_type": "code",
   "execution_count": null,
   "metadata": {},
   "outputs": [],
   "source": []
  },
  {
   "cell_type": "code",
   "execution_count": null,
   "metadata": {},
   "outputs": [],
   "source": []
  },
  {
   "cell_type": "code",
   "execution_count": null,
   "metadata": {},
   "outputs": [],
   "source": []
  }
 ],
 "metadata": {
  "kernelspec": {
   "display_name": "Python 3",
   "language": "python",
   "name": "python3"
  },
  "language_info": {
   "codemirror_mode": {
    "name": "ipython",
    "version": 3
   },
   "file_extension": ".py",
   "mimetype": "text/x-python",
   "name": "python",
   "nbconvert_exporter": "python",
   "pygments_lexer": "ipython3",
   "version": "3.12.5"
  }
 },
 "nbformat": 4,
 "nbformat_minor": 2
}
