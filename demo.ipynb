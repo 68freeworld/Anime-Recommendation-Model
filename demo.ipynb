{
 "cells": [
  {
   "cell_type": "markdown",
   "id": "89a3b50d",
   "metadata": {},
   "source": [
    "<center>\n",
    "    <a><img src=\"https://assets.aboutamazon.com/dims4/default/618814b/2147483647/strip/true/crop/1279x720+0+0/resize/1240x698!/quality/90/?url=https%3A%2F%2Famazon-blogs-brightspot.s3.amazonaws.com%2F4d%2F45%2Fd46f0da841cd85b66504278d4003%2Fcrunchyrollpv.jpg\" width=400> </a>    \n",
    "</center>\n",
    "<h1 align=center><font size = 5>Anime Recommendation Model - Demo</font>\n",
    "<h1 align=center><font size = 5>April 30, 2025</font>\n"
   ]
  },
  {
   "cell_type": "code",
   "execution_count": 1,
   "id": "a64890b0",
   "metadata": {},
   "outputs": [],
   "source": [
    "# Import Libraries\n",
    "\n",
    "import pandas as pd\n",
    "import numpy as np\n",
    "from sklearn.feature_extraction.text import TfidfVectorizer  # For converting text data into TF-IDF vectors\n",
    "from sklearn.metrics.pairwise import cosine_similarity  # For computing cosine similarity between vectors\n",
    "from scipy.spatial.distance import pdist, squareform  # For pairwise distance computations and converting to a square matrix\n",
    "import pickle\n",
    "\n",
    "import pandas as pd, numpy as np, pickle, os\n",
    "from scipy.sparse import csr_matrix, vstack\n",
    "from sklearn.metrics.pairwise import cosine_similarity\n",
    "from tqdm.notebook import tqdm\n",
    "\n",
    "pd.set_option('display.max_columns', None)\n",
    "pd.set_option('display.max_rows', None)"
   ]
  },
  {
   "cell_type": "code",
   "execution_count": 2,
   "id": "0cc1d1c2",
   "metadata": {},
   "outputs": [],
   "source": [
    "# Import function from our model\n",
    "from models import *"
   ]
  },
  {
   "cell_type": "code",
   "execution_count": 3,
   "id": "7478f7e4",
   "metadata": {},
   "outputs": [],
   "source": [
    "#---------- load Data----------\n",
    "with open(\"rating_df_final.pk\", \"rb\") as f:\n",
    "    rating_df_clean = pickle.load(f)\n",
    "with open(\"anime_df_final.pk\", \"rb\") as f:\n",
    "    anime_df_clean = pickle.load(f)"
   ]
  },
  {
   "cell_type": "markdown",
   "id": "cadfb5b1",
   "metadata": {},
   "source": [
    "<h1>Welcome to our Anime Recommendation Model<h1><ln><cr>\n",
    "<h5>Lets Get you started with some fresh movies<h5>"
   ]
  },
  {
   "cell_type": "code",
   "execution_count": 4,
   "id": "14b2655a",
   "metadata": {},
   "outputs": [
    {
     "data": {
      "text/html": [
       "<div>\n",
       "<style scoped>\n",
       "    .dataframe tbody tr th:only-of-type {\n",
       "        vertical-align: middle;\n",
       "    }\n",
       "\n",
       "    .dataframe tbody tr th {\n",
       "        vertical-align: top;\n",
       "    }\n",
       "\n",
       "    .dataframe thead th {\n",
       "        text-align: right;\n",
       "    }\n",
       "</style>\n",
       "<table border=\"1\" class=\"dataframe\">\n",
       "  <thead>\n",
       "    <tr style=\"text-align: right;\">\n",
       "      <th></th>\n",
       "      <th>anime_name</th>\n",
       "      <th>anime_id</th>\n",
       "    </tr>\n",
       "  </thead>\n",
       "  <tbody>\n",
       "    <tr>\n",
       "      <th>0</th>\n",
       "      <td>Fullmetal Alchemist: Brotherhood</td>\n",
       "      <td>5114</td>\n",
       "    </tr>\n",
       "    <tr>\n",
       "      <th>1</th>\n",
       "      <td>Steins;Gate</td>\n",
       "      <td>9253</td>\n",
       "    </tr>\n",
       "    <tr>\n",
       "      <th>2</th>\n",
       "      <td>Death Note</td>\n",
       "      <td>1535</td>\n",
       "    </tr>\n",
       "    <tr>\n",
       "      <th>3</th>\n",
       "      <td>Code Geass: Hangyaku no Lelouch R2</td>\n",
       "      <td>2904</td>\n",
       "    </tr>\n",
       "    <tr>\n",
       "      <th>4</th>\n",
       "      <td>Kimi no Na wa.</td>\n",
       "      <td>32281</td>\n",
       "    </tr>\n",
       "    <tr>\n",
       "      <th>5</th>\n",
       "      <td>Hunter x Hunter (2011)</td>\n",
       "      <td>11061</td>\n",
       "    </tr>\n",
       "    <tr>\n",
       "      <th>6</th>\n",
       "      <td>Shingeki no Kyojin</td>\n",
       "      <td>16498</td>\n",
       "    </tr>\n",
       "    <tr>\n",
       "      <th>7</th>\n",
       "      <td>Code Geass: Hangyaku no Lelouch</td>\n",
       "      <td>1575</td>\n",
       "    </tr>\n",
       "    <tr>\n",
       "      <th>8</th>\n",
       "      <td>Sen to Chihiro no Kamikakushi</td>\n",
       "      <td>199</td>\n",
       "    </tr>\n",
       "    <tr>\n",
       "      <th>9</th>\n",
       "      <td>Koe no Katachi</td>\n",
       "      <td>28851</td>\n",
       "    </tr>\n",
       "  </tbody>\n",
       "</table>\n",
       "</div>"
      ],
      "text/plain": [
       "                           anime_name  anime_id\n",
       "0    Fullmetal Alchemist: Brotherhood      5114\n",
       "1                         Steins;Gate      9253\n",
       "2                          Death Note      1535\n",
       "3  Code Geass: Hangyaku no Lelouch R2      2904\n",
       "4                      Kimi no Na wa.     32281\n",
       "5              Hunter x Hunter (2011)     11061\n",
       "6                  Shingeki no Kyojin     16498\n",
       "7     Code Geass: Hangyaku no Lelouch      1575\n",
       "8       Sen to Chihiro no Kamikakushi       199\n",
       "9                      Koe no Katachi     28851"
      ]
     },
     "execution_count": 4,
     "metadata": {},
     "output_type": "execute_result"
    }
   ],
   "source": [
    "hybrid_npr(rating_df_clean, anime_df_clean)"
   ]
  },
  {
   "cell_type": "markdown",
   "id": "d47f9996",
   "metadata": {},
   "source": [
    "<h1>I know you like one of those, come on choose one. Or else<h1>"
   ]
  },
  {
   "cell_type": "code",
   "execution_count": 5,
   "id": "371960aa",
   "metadata": {},
   "outputs": [],
   "source": [
    "prof_choooooooose = \"Fullmetal Alchemist: Brotherhood\""
   ]
  },
  {
   "cell_type": "code",
   "execution_count": 6,
   "id": "a3fb4c87",
   "metadata": {},
   "outputs": [
    {
     "data": {
      "text/plain": [
       "0                                Fullmetal Alchemist\n",
       "1      Fullmetal Alchemist: The Sacred Star of Milos\n",
       "2    Fullmetal Alchemist: The Conqueror of Shamballa\n",
       "3          Fullmetal Alchemist: Brotherhood Specials\n",
       "4                  Fairy Tail Movie 1: Houou no Miko\n",
       "5                               One Piece Film: Gold\n",
       "6                                         Fairy Tail\n",
       "7                           One Piece: Heart of Gold\n",
       "8                           Fairy Tail: Final Series\n",
       "9                                  Fairy Tail x Rave\n",
       "Name: anime_name, dtype: object"
      ]
     },
     "execution_count": 6,
     "metadata": {},
     "output_type": "execute_result"
    }
   ],
   "source": [
    "HybridContent(prof_choooooooose, anime_df_clean)"
   ]
  },
  {
   "cell_type": "markdown",
   "id": "13903f7e",
   "metadata": {},
   "source": [
    "<h2>Hey, how's the experience so far, im sure the content based hybrid did well for you <h2>"
   ]
  },
  {
   "cell_type": "markdown",
   "id": "a5efd0a3",
   "metadata": {},
   "source": [
    "<h1>Big dawg we noticed you rated some animes, shall we update your recommendations? <h1>"
   ]
  },
  {
   "cell_type": "code",
   "execution_count": 7,
   "id": "5778c97b",
   "metadata": {},
   "outputs": [],
   "source": [
    "# Lets start with one for now\n",
    "watched = []\n",
    "\n",
    "watched.append(input(\"Enter the name of the anime you have watched: \"))\n"
   ]
  },
  {
   "cell_type": "markdown",
   "id": "718d825b",
   "metadata": {},
   "source": [
    "<h1>because you are soooo special we are gonna award you a VIP user_id = 999999999<h1>"
   ]
  },
  {
   "cell_type": "code",
   "execution_count": 8,
   "id": "bc4e9c13",
   "metadata": {},
   "outputs": [
    {
     "name": "stdout",
     "output_type": "stream",
     "text": [
      "✅ Added 1 new ratings for user 999999999\n"
     ]
    }
   ],
   "source": [
    "rating_df_clean = addrows(999999999, watched, rating_df_clean)"
   ]
  },
  {
   "cell_type": "code",
   "execution_count": 9,
   "id": "95e4ea7c",
   "metadata": {},
   "outputs": [
    {
     "data": {
      "text/html": [
       "<div>\n",
       "<style scoped>\n",
       "    .dataframe tbody tr th:only-of-type {\n",
       "        vertical-align: middle;\n",
       "    }\n",
       "\n",
       "    .dataframe tbody tr th {\n",
       "        vertical-align: top;\n",
       "    }\n",
       "\n",
       "    .dataframe thead th {\n",
       "        text-align: right;\n",
       "    }\n",
       "</style>\n",
       "<table border=\"1\" class=\"dataframe\">\n",
       "  <thead>\n",
       "    <tr style=\"text-align: right;\">\n",
       "      <th></th>\n",
       "      <th>user_id</th>\n",
       "      <th>anime_id</th>\n",
       "      <th>rating</th>\n",
       "      <th>anime_name</th>\n",
       "    </tr>\n",
       "  </thead>\n",
       "  <tbody>\n",
       "    <tr>\n",
       "      <th>1435890</th>\n",
       "      <td>999999999</td>\n",
       "      <td>30276</td>\n",
       "      <td>9.0</td>\n",
       "      <td>One Punch Man</td>\n",
       "    </tr>\n",
       "  </tbody>\n",
       "</table>\n",
       "</div>"
      ],
      "text/plain": [
       "           user_id  anime_id  rating     anime_name\n",
       "1435890  999999999     30276     9.0  One Punch Man"
      ]
     },
     "execution_count": 9,
     "metadata": {},
     "output_type": "execute_result"
    }
   ],
   "source": [
    "rating_df_clean.loc[rating_df_clean['user_id'] == 999999999]"
   ]
  },
  {
   "cell_type": "code",
   "execution_count": 10,
   "id": "b50b9bdb",
   "metadata": {},
   "outputs": [],
   "source": [
    "precomps(rating_df_clean)       # ← sets up all the globals"
   ]
  },
  {
   "cell_type": "markdown",
   "id": "c84460cd",
   "metadata": {},
   "source": [
    "<h2>My dear, we shall see how your recommendations are now that we have something to go off of.  <h2>"
   ]
  },
  {
   "cell_type": "code",
   "execution_count": 11,
   "id": "c6c31626",
   "metadata": {},
   "outputs": [],
   "source": [
    "recs = HybridCF(999999999, rating_df_clean)\n"
   ]
  },
  {
   "cell_type": "code",
   "execution_count": 12,
   "id": "f09f75e7",
   "metadata": {},
   "outputs": [
    {
     "data": {
      "text/html": [
       "<div>\n",
       "<style scoped>\n",
       "    .dataframe tbody tr th:only-of-type {\n",
       "        vertical-align: middle;\n",
       "    }\n",
       "\n",
       "    .dataframe tbody tr th {\n",
       "        vertical-align: top;\n",
       "    }\n",
       "\n",
       "    .dataframe thead th {\n",
       "        text-align: right;\n",
       "    }\n",
       "</style>\n",
       "<table border=\"1\" class=\"dataframe\">\n",
       "  <thead>\n",
       "    <tr style=\"text-align: right;\">\n",
       "      <th></th>\n",
       "      <th>anime_name</th>\n",
       "      <th>anime_id</th>\n",
       "    </tr>\n",
       "  </thead>\n",
       "  <tbody>\n",
       "    <tr>\n",
       "      <th>0</th>\n",
       "      <td>Kishuku Gakkou no Juliet</td>\n",
       "      <td>37475</td>\n",
       "    </tr>\n",
       "    <tr>\n",
       "      <th>1</th>\n",
       "      <td>Shigatsu wa Kimi no Uso: Moments</td>\n",
       "      <td>28069</td>\n",
       "    </tr>\n",
       "    <tr>\n",
       "      <th>2</th>\n",
       "      <td>Boku no Sexual Harassment</td>\n",
       "      <td>755</td>\n",
       "    </tr>\n",
       "    <tr>\n",
       "      <th>3</th>\n",
       "      <td>Kaijuu no Kodomo</td>\n",
       "      <td>37981</td>\n",
       "    </tr>\n",
       "    <tr>\n",
       "      <th>4</th>\n",
       "      <td>Nyanko Days</td>\n",
       "      <td>34148</td>\n",
       "    </tr>\n",
       "    <tr>\n",
       "      <th>5</th>\n",
       "      <td>Tanoshii Muumin Ikka</td>\n",
       "      <td>2150</td>\n",
       "    </tr>\n",
       "    <tr>\n",
       "      <th>6</th>\n",
       "      <td>School Rumble: Ichi Gakki Hoshuu</td>\n",
       "      <td>517</td>\n",
       "    </tr>\n",
       "    <tr>\n",
       "      <th>7</th>\n",
       "      <td>Yuukoku no Moriarty</td>\n",
       "      <td>40911</td>\n",
       "    </tr>\n",
       "    <tr>\n",
       "      <th>8</th>\n",
       "      <td>Bohemian Rhapsody</td>\n",
       "      <td>8939</td>\n",
       "    </tr>\n",
       "    <tr>\n",
       "      <th>9</th>\n",
       "      <td>Paradise Kiss</td>\n",
       "      <td>322</td>\n",
       "    </tr>\n",
       "  </tbody>\n",
       "</table>\n",
       "</div>"
      ],
      "text/plain": [
       "                         anime_name  anime_id\n",
       "0          Kishuku Gakkou no Juliet     37475\n",
       "1  Shigatsu wa Kimi no Uso: Moments     28069\n",
       "2         Boku no Sexual Harassment       755\n",
       "3                  Kaijuu no Kodomo     37981\n",
       "4                       Nyanko Days     34148\n",
       "5              Tanoshii Muumin Ikka      2150\n",
       "6  School Rumble: Ichi Gakki Hoshuu       517\n",
       "7               Yuukoku no Moriarty     40911\n",
       "8                 Bohemian Rhapsody      8939\n",
       "9                     Paradise Kiss       322"
      ]
     },
     "execution_count": 12,
     "metadata": {},
     "output_type": "execute_result"
    }
   ],
   "source": [
    "recs\n",
    "\n"
   ]
  },
  {
   "cell_type": "markdown",
   "id": "2d15898e",
   "metadata": {},
   "source": [
    "<h2>Lets see how the recommendations change after you rate some more animes<h2>"
   ]
  },
  {
   "cell_type": "code",
   "execution_count": 13,
   "id": "690e312d",
   "metadata": {},
   "outputs": [
    {
     "name": "stdout",
     "output_type": "stream",
     "text": [
      " You have already rated 'One Punch Man' — skipping\n",
      " '' not found — skipping\n",
      " '' not found — skipping\n",
      " '' not found — skipping\n",
      "No new ratings added.\n"
     ]
    },
    {
     "ename": "KeyboardInterrupt",
     "evalue": "",
     "output_type": "error",
     "traceback": [
      "\u001b[31m---------------------------------------------------------------------------\u001b[39m",
      "\u001b[31mKeyboardInterrupt\u001b[39m                         Traceback (most recent call last)",
      "\u001b[36mCell\u001b[39m\u001b[36m \u001b[39m\u001b[32mIn[13]\u001b[39m\u001b[32m, line 5\u001b[39m\n\u001b[32m      2\u001b[39m     watched.append(\u001b[38;5;28minput\u001b[39m(\u001b[33m\"\u001b[39m\u001b[33mEnter the name of the animes you have watched: \u001b[39m\u001b[33m\"\u001b[39m))\n\u001b[32m      4\u001b[39m rating_df_clean = addrows(\u001b[32m999999999\u001b[39m, watched, rating_df_clean)\n\u001b[32m----> \u001b[39m\u001b[32m5\u001b[39m \u001b[43mprecomps\u001b[49m\u001b[43m(\u001b[49m\u001b[43mrating_df_clean\u001b[49m\u001b[43m)\u001b[49m\n",
      "\u001b[36mFile \u001b[39m\u001b[32mc:\\Users\\mehai\\OneDrive\\Documents\\GitHub\\Anime-Recommendation-Model\\models.py:75\u001b[39m, in \u001b[36mprecomps\u001b[39m\u001b[34m(rating_df, K)\u001b[39m\n\u001b[32m     72\u001b[39m global_mean = data.mean()\n\u001b[32m     74\u001b[39m \u001b[38;5;66;03m# 3. precompute top-K sparse similarities\u001b[39;00m\n\u001b[32m---> \u001b[39m\u001b[32m75\u001b[39m user_sim = \u001b[43mtopk_cosine\u001b[49m\u001b[43m(\u001b[49m\u001b[43mR\u001b[49m\u001b[43m,\u001b[49m\u001b[43m   \u001b[49m\u001b[43mK\u001b[49m\u001b[43m=\u001b[49m\u001b[43mK\u001b[49m\u001b[43m)\u001b[49m\n\u001b[32m     76\u001b[39m item_sim = topk_cosine(R.T, K=K)\n",
      "\u001b[36mFile \u001b[39m\u001b[32mc:\\Users\\mehai\\OneDrive\\Documents\\GitHub\\Anime-Recommendation-Model\\models.py:91\u001b[39m, in \u001b[36mtopk_cosine\u001b[39m\u001b[34m(mat, K)\u001b[39m\n\u001b[32m     89\u001b[39m     row = sim.getrow(i).tocoo()\n\u001b[32m     90\u001b[39m     \u001b[38;5;66;03m# pick the top‐K most similar entries in that row\u001b[39;00m\n\u001b[32m---> \u001b[39m\u001b[32m91\u001b[39m     idx = \u001b[43mrow\u001b[49m\u001b[43m.\u001b[49m\u001b[43mdata\u001b[49m\u001b[43m.\u001b[49m\u001b[43margsort\u001b[49m\u001b[43m(\u001b[49m\u001b[43m)\u001b[49m[::-\u001b[32m1\u001b[39m][:K]\n\u001b[32m     92\u001b[39m     trimmed.append(\n\u001b[32m     93\u001b[39m         csr_matrix(\n\u001b[32m     94\u001b[39m             (row.data[idx], (np.zeros_like(idx), row.col[idx])),\n\u001b[32m     95\u001b[39m             shape=(\u001b[32m1\u001b[39m, sim.shape[\u001b[32m1\u001b[39m])\n\u001b[32m     96\u001b[39m         )\n\u001b[32m     97\u001b[39m     )\n\u001b[32m     98\u001b[39m \u001b[38;5;66;03m# stack all trimmed rows back into a sparse matrix\u001b[39;00m\n",
      "\u001b[31mKeyboardInterrupt\u001b[39m: "
     ]
    }
   ],
   "source": [
    "\n",
    "for i in range(3):\n",
    "    watched.append(input(\"Enter the name of the animes you have watched: \"))\n",
    "\n",
    "rating_df_clean = addrows(999999999, watched, rating_df_clean)\n",
    "precomps(rating_df_clean)"
   ]
  },
  {
   "cell_type": "code",
   "execution_count": 36,
   "id": "1d1ccf05",
   "metadata": {},
   "outputs": [
    {
     "data": {
      "text/html": [
       "<div>\n",
       "<style scoped>\n",
       "    .dataframe tbody tr th:only-of-type {\n",
       "        vertical-align: middle;\n",
       "    }\n",
       "\n",
       "    .dataframe tbody tr th {\n",
       "        vertical-align: top;\n",
       "    }\n",
       "\n",
       "    .dataframe thead th {\n",
       "        text-align: right;\n",
       "    }\n",
       "</style>\n",
       "<table border=\"1\" class=\"dataframe\">\n",
       "  <thead>\n",
       "    <tr style=\"text-align: right;\">\n",
       "      <th></th>\n",
       "      <th>user_id</th>\n",
       "      <th>anime_id</th>\n",
       "      <th>rating</th>\n",
       "      <th>anime_name</th>\n",
       "    </tr>\n",
       "  </thead>\n",
       "  <tbody>\n",
       "    <tr>\n",
       "      <th>1435889</th>\n",
       "      <td>353387</td>\n",
       "      <td>37259</td>\n",
       "      <td>7.0</td>\n",
       "      <td>Hanebado!</td>\n",
       "    </tr>\n",
       "    <tr>\n",
       "      <th>1435890</th>\n",
       "      <td>999999999</td>\n",
       "      <td>30276</td>\n",
       "      <td>6.0</td>\n",
       "      <td>One Punch Man</td>\n",
       "    </tr>\n",
       "    <tr>\n",
       "      <th>1435891</th>\n",
       "      <td>999999999</td>\n",
       "      <td>6512</td>\n",
       "      <td>10.0</td>\n",
       "      <td>Nyan Koi!</td>\n",
       "    </tr>\n",
       "    <tr>\n",
       "      <th>1435892</th>\n",
       "      <td>999999999</td>\n",
       "      <td>5958</td>\n",
       "      <td>7.0</td>\n",
       "      <td>Sora no Otoshimono</td>\n",
       "    </tr>\n",
       "    <tr>\n",
       "      <th>1435893</th>\n",
       "      <td>999999999</td>\n",
       "      <td>1535</td>\n",
       "      <td>9.0</td>\n",
       "      <td>Death Note</td>\n",
       "    </tr>\n",
       "  </tbody>\n",
       "</table>\n",
       "</div>"
      ],
      "text/plain": [
       "           user_id  anime_id  rating          anime_name\n",
       "1435889     353387     37259     7.0           Hanebado!\n",
       "1435890  999999999     30276     6.0       One Punch Man\n",
       "1435891  999999999      6512    10.0           Nyan Koi!\n",
       "1435892  999999999      5958     7.0  Sora no Otoshimono\n",
       "1435893  999999999      1535     9.0          Death Note"
      ]
     },
     "execution_count": 36,
     "metadata": {},
     "output_type": "execute_result"
    }
   ],
   "source": [
    "rating_df_clean.tail()"
   ]
  },
  {
   "cell_type": "code",
   "execution_count": 37,
   "id": "51a3e33e",
   "metadata": {},
   "outputs": [],
   "source": [
    "recs = HybridCF(999999999, rating_df_clean)"
   ]
  },
  {
   "cell_type": "code",
   "execution_count": 38,
   "id": "b91fa033",
   "metadata": {},
   "outputs": [
    {
     "data": {
      "text/html": [
       "<div>\n",
       "<style scoped>\n",
       "    .dataframe tbody tr th:only-of-type {\n",
       "        vertical-align: middle;\n",
       "    }\n",
       "\n",
       "    .dataframe tbody tr th {\n",
       "        vertical-align: top;\n",
       "    }\n",
       "\n",
       "    .dataframe thead th {\n",
       "        text-align: right;\n",
       "    }\n",
       "</style>\n",
       "<table border=\"1\" class=\"dataframe\">\n",
       "  <thead>\n",
       "    <tr style=\"text-align: right;\">\n",
       "      <th></th>\n",
       "      <th>anime_name</th>\n",
       "      <th>anime_id</th>\n",
       "    </tr>\n",
       "  </thead>\n",
       "  <tbody>\n",
       "    <tr>\n",
       "      <th>0</th>\n",
       "      <td>Monster</td>\n",
       "      <td>19</td>\n",
       "    </tr>\n",
       "    <tr>\n",
       "      <th>1</th>\n",
       "      <td>Tsuki ga Kirei</td>\n",
       "      <td>34822</td>\n",
       "    </tr>\n",
       "    <tr>\n",
       "      <th>2</th>\n",
       "      <td>Samurai 7</td>\n",
       "      <td>166</td>\n",
       "    </tr>\n",
       "    <tr>\n",
       "      <th>3</th>\n",
       "      <td>Rainbow: Nisha Rokubou no Shichinin</td>\n",
       "      <td>6114</td>\n",
       "    </tr>\n",
       "    <tr>\n",
       "      <th>4</th>\n",
       "      <td>Mob Psycho 100 II</td>\n",
       "      <td>37510</td>\n",
       "    </tr>\n",
       "    <tr>\n",
       "      <th>5</th>\n",
       "      <td>Beastars</td>\n",
       "      <td>39195</td>\n",
       "    </tr>\n",
       "    <tr>\n",
       "      <th>6</th>\n",
       "      <td>Ishuzoku Reviewers</td>\n",
       "      <td>40010</td>\n",
       "    </tr>\n",
       "    <tr>\n",
       "      <th>7</th>\n",
       "      <td>Night Head Genesis</td>\n",
       "      <td>1243</td>\n",
       "    </tr>\n",
       "    <tr>\n",
       "      <th>8</th>\n",
       "      <td>Over Drive</td>\n",
       "      <td>2112</td>\n",
       "    </tr>\n",
       "    <tr>\n",
       "      <th>9</th>\n",
       "      <td>Kochira Katsushikaku Kameari Kouenmae Hashutsujo</td>\n",
       "      <td>3545</td>\n",
       "    </tr>\n",
       "  </tbody>\n",
       "</table>\n",
       "</div>"
      ],
      "text/plain": [
       "                                         anime_name  anime_id\n",
       "0                                           Monster        19\n",
       "1                                    Tsuki ga Kirei     34822\n",
       "2                                         Samurai 7       166\n",
       "3               Rainbow: Nisha Rokubou no Shichinin      6114\n",
       "4                                 Mob Psycho 100 II     37510\n",
       "5                                          Beastars     39195\n",
       "6                                Ishuzoku Reviewers     40010\n",
       "7                                Night Head Genesis      1243\n",
       "8                                        Over Drive      2112\n",
       "9  Kochira Katsushikaku Kameari Kouenmae Hashutsujo      3545"
      ]
     },
     "execution_count": 38,
     "metadata": {},
     "output_type": "execute_result"
    }
   ],
   "source": [
    "recs"
   ]
  },
  {
   "cell_type": "code",
   "execution_count": null,
   "id": "8c286245",
   "metadata": {},
   "outputs": [],
   "source": [
    "# Nyan Koi!\n",
    "# Sora no Otoshimono\n",
    "# Death Note"
   ]
  }
 ],
 "metadata": {
  "kernelspec": {
   "display_name": "Python 3",
   "language": "python",
   "name": "python3"
  },
  "language_info": {
   "codemirror_mode": {
    "name": "ipython",
    "version": 3
   },
   "file_extension": ".py",
   "mimetype": "text/x-python",
   "name": "python",
   "nbconvert_exporter": "python",
   "pygments_lexer": "ipython3",
   "version": "3.12.4"
  }
 },
 "nbformat": 4,
 "nbformat_minor": 5
}
