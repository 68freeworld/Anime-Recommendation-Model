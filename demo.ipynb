{
 "cells": [
  {
   "cell_type": "markdown",
   "id": "89a3b50d",
   "metadata": {},
   "source": [
    "<center>\n",
    "    <a><img src=\"https://assets.aboutamazon.com/dims4/default/618814b/2147483647/strip/true/crop/1279x720+0+0/resize/1240x698!/quality/90/?url=https%3A%2F%2Famazon-blogs-brightspot.s3.amazonaws.com%2F4d%2F45%2Fd46f0da841cd85b66504278d4003%2Fcrunchyrollpv.jpg\" width=400> </a>    \n",
    "</center>\n",
    "<h1 align=center><font size = 5>Anime Recommendation Model - Demo</font>\n",
    "<h1 align=center><font size = 5>April 30, 2025</font>\n"
   ]
  },
  {
   "cell_type": "code",
   "execution_count": null,
   "id": "a64890b0",
   "metadata": {},
   "outputs": [],
   "source": [
    "# Import Libraries\n",
    "\n",
    "import pandas as pd\n",
    "import numpy as np\n",
    "from sklearn.feature_extraction.text import TfidfVectorizer  # For converting text data into TF-IDF vectors\n",
    "from sklearn.metrics.pairwise import cosine_similarity  # For computing cosine similarity between vectors\n",
    "from scipy.spatial.distance import pdist, squareform  # For pairwise distance computations and converting to a square matrix\n",
    "import pickle\n",
    "\n",
    "import pandas as pd, numpy as np, pickle, os\n",
    "from scipy.sparse import csr_matrix, vstack\n",
    "from sklearn.metrics.pairwise import cosine_similarity\n",
    "from tqdm.notebook import tqdm\n",
    "\n",
    "pd.set_option('display.max_columns', None)\n",
    "pd.set_option('display.max_rows', None)"
   ]
  },
  {
   "cell_type": "code",
   "execution_count": null,
   "id": "0cc1d1c2",
   "metadata": {},
   "outputs": [],
   "source": [
    "# Import function from our model\n",
    "from models import *"
   ]
  },
  {
   "cell_type": "code",
   "execution_count": null,
   "id": "7478f7e4",
   "metadata": {},
   "outputs": [],
   "source": [
    "#---------- load Data----------\n",
    "with open(\"rating_df_final.pk\", \"rb\") as f:\n",
    "    rating_df_clean = pickle.load(f)\n",
    "with open(\"anime_df_final.pk\", \"rb\") as f:\n",
    "    anime_df_clean = pickle.load(f)"
   ]
  },
  {
   "cell_type": "markdown",
   "id": "cadfb5b1",
   "metadata": {},
   "source": [
    "<h1>Welcome to our Anime Recommendation Model<h1><ln><cr>\n",
    "<h5>Lets Get you started with some fresh movies<h5>"
   ]
  },
  {
   "cell_type": "code",
   "execution_count": 26,
   "id": "14b2655a",
   "metadata": {},
   "outputs": [
    {
     "name": "stdout",
     "output_type": "stream",
     "text": [
      "\n",
      "Top 10 Anime – Hybrid (70 % Bayesian, 30 % Weighted):\n",
      "\n",
      "                        anime_name Avg_Rating  Num_Ratings Weighted_Score Bayesian_Rating Hybrid_Score\n",
      "  Fullmetal Alchemist: Brotherhood       9.27         5026          0.834           9.160        0.964\n",
      "                       Steins;Gate       9.22         4558          0.797           9.106        0.930\n",
      "            Hunter x Hunter (2011)       9.21         2958          0.678           9.043        0.864\n",
      "Code Geass: Hangyaku no Lelouch R2       8.94         4563          0.783           8.851        0.830\n",
      "              Clannad: After Story       9.07         3081          0.681           8.928        0.822\n",
      "Shingeki no Kyojin Season 3 Part 2       9.12         2563          0.645           8.949        0.817\n",
      "                    Kimi no Na wa.       8.87         4790          0.797           8.793        0.813\n",
      "                        Death Note       8.69         6786          0.935           8.644        0.807\n",
      "                    Koe no Katachi       8.93         3840          0.730           8.829        0.802\n",
      "     Sen to Chihiro no Kamikakushi       8.78         4821          0.794           8.703        0.778\n",
      "We recommend you these 10 Anime:\n",
      "Fullmetal Alchemist: Brotherhood\n",
      "Steins;Gate\n",
      "Hunter x Hunter (2011)\n",
      "Code Geass: Hangyaku no Lelouch R2\n",
      "Clannad: After Story\n",
      "Shingeki no Kyojin Season 3 Part 2\n",
      "Kimi no Na wa.\n",
      "Death Note\n",
      "Koe no Katachi\n",
      "Sen to Chihiro no Kamikakushi\n"
     ]
    }
   ],
   "source": [
    "hybrid_npr(rating_df_clean, anime_df_clean)"
   ]
  },
  {
   "cell_type": "markdown",
   "id": "d47f9996",
   "metadata": {},
   "source": [
    "<h1>I know you like one of those, come on choose one. Or else<h1>"
   ]
  },
  {
   "cell_type": "code",
   "execution_count": 27,
   "id": "371960aa",
   "metadata": {},
   "outputs": [],
   "source": [
    "prof_choooooooose = \"Fullmetal Alchemist: Brotherhood\""
   ]
  },
  {
   "cell_type": "code",
   "execution_count": 28,
   "id": "a3fb4c87",
   "metadata": {},
   "outputs": [
    {
     "data": {
      "text/html": [
       "<div>\n",
       "<style scoped>\n",
       "    .dataframe tbody tr th:only-of-type {\n",
       "        vertical-align: middle;\n",
       "    }\n",
       "\n",
       "    .dataframe tbody tr th {\n",
       "        vertical-align: top;\n",
       "    }\n",
       "\n",
       "    .dataframe thead th {\n",
       "        text-align: right;\n",
       "    }\n",
       "</style>\n",
       "<table border=\"1\" class=\"dataframe\">\n",
       "  <thead>\n",
       "    <tr style=\"text-align: right;\">\n",
       "      <th></th>\n",
       "      <th>anime_name</th>\n",
       "      <th>TFIDF</th>\n",
       "      <th>Jaccard</th>\n",
       "      <th>Hybrid</th>\n",
       "    </tr>\n",
       "  </thead>\n",
       "  <tbody>\n",
       "    <tr>\n",
       "      <th>0</th>\n",
       "      <td>Fullmetal Alchemist</td>\n",
       "      <td>0.602108</td>\n",
       "      <td>1.000000</td>\n",
       "      <td>0.721476</td>\n",
       "    </tr>\n",
       "    <tr>\n",
       "      <th>1</th>\n",
       "      <td>Fullmetal Alchemist: The Sacred Star of Milos</td>\n",
       "      <td>0.313521</td>\n",
       "      <td>1.000000</td>\n",
       "      <td>0.519465</td>\n",
       "    </tr>\n",
       "    <tr>\n",
       "      <th>2</th>\n",
       "      <td>Fullmetal Alchemist: The Conqueror of Shamballa</td>\n",
       "      <td>0.309981</td>\n",
       "      <td>0.555556</td>\n",
       "      <td>0.383654</td>\n",
       "    </tr>\n",
       "    <tr>\n",
       "      <th>3</th>\n",
       "      <td>Fullmetal Alchemist: Brotherhood Specials</td>\n",
       "      <td>0.179978</td>\n",
       "      <td>0.750000</td>\n",
       "      <td>0.350985</td>\n",
       "    </tr>\n",
       "    <tr>\n",
       "      <th>4</th>\n",
       "      <td>Fairy Tail Movie 1: Houou no Miko</td>\n",
       "      <td>0.060975</td>\n",
       "      <td>0.750000</td>\n",
       "      <td>0.267683</td>\n",
       "    </tr>\n",
       "    <tr>\n",
       "      <th>5</th>\n",
       "      <td>One Piece Film: Gold</td>\n",
       "      <td>0.012845</td>\n",
       "      <td>0.750000</td>\n",
       "      <td>0.233991</td>\n",
       "    </tr>\n",
       "    <tr>\n",
       "      <th>6</th>\n",
       "      <td>Fairy Tail</td>\n",
       "      <td>0.006488</td>\n",
       "      <td>0.750000</td>\n",
       "      <td>0.229541</td>\n",
       "    </tr>\n",
       "    <tr>\n",
       "      <th>7</th>\n",
       "      <td>One Piece: Heart of Gold</td>\n",
       "      <td>0.004838</td>\n",
       "      <td>0.750000</td>\n",
       "      <td>0.228387</td>\n",
       "    </tr>\n",
       "    <tr>\n",
       "      <th>8</th>\n",
       "      <td>Fairy Tail: Final Series</td>\n",
       "      <td>0.004042</td>\n",
       "      <td>0.750000</td>\n",
       "      <td>0.227829</td>\n",
       "    </tr>\n",
       "    <tr>\n",
       "      <th>9</th>\n",
       "      <td>Fairy Tail x Rave</td>\n",
       "      <td>0.003788</td>\n",
       "      <td>0.750000</td>\n",
       "      <td>0.227651</td>\n",
       "    </tr>\n",
       "  </tbody>\n",
       "</table>\n",
       "</div>"
      ],
      "text/plain": [
       "                                        anime_name     TFIDF   Jaccard  \\\n",
       "0                              Fullmetal Alchemist  0.602108  1.000000   \n",
       "1    Fullmetal Alchemist: The Sacred Star of Milos  0.313521  1.000000   \n",
       "2  Fullmetal Alchemist: The Conqueror of Shamballa  0.309981  0.555556   \n",
       "3        Fullmetal Alchemist: Brotherhood Specials  0.179978  0.750000   \n",
       "4                Fairy Tail Movie 1: Houou no Miko  0.060975  0.750000   \n",
       "5                             One Piece Film: Gold  0.012845  0.750000   \n",
       "6                                       Fairy Tail  0.006488  0.750000   \n",
       "7                         One Piece: Heart of Gold  0.004838  0.750000   \n",
       "8                         Fairy Tail: Final Series  0.004042  0.750000   \n",
       "9                                Fairy Tail x Rave  0.003788  0.750000   \n",
       "\n",
       "     Hybrid  \n",
       "0  0.721476  \n",
       "1  0.519465  \n",
       "2  0.383654  \n",
       "3  0.350985  \n",
       "4  0.267683  \n",
       "5  0.233991  \n",
       "6  0.229541  \n",
       "7  0.228387  \n",
       "8  0.227829  \n",
       "9  0.227651  "
      ]
     },
     "execution_count": 28,
     "metadata": {},
     "output_type": "execute_result"
    }
   ],
   "source": [
    "HybridContent(prof_choooooooose, anime_df_clean)"
   ]
  },
  {
   "cell_type": "markdown",
   "id": "13903f7e",
   "metadata": {},
   "source": [
    "<h2>Hey, how's the experience so far, im sure the content based hybrid did well for you <h2>"
   ]
  },
  {
   "cell_type": "markdown",
   "id": "a5efd0a3",
   "metadata": {},
   "source": [
    "<h1>Big dawg we noticed you rated some animes, shall we update your recommendations? <h1>"
   ]
  },
  {
   "cell_type": "code",
   "execution_count": 29,
   "id": "5778c97b",
   "metadata": {},
   "outputs": [],
   "source": [
    "# Lets start with one for now\n",
    "watched = []\n",
    "\n",
    "watched.append(input(\"Enter the name of the anime you have watched: \"))\n"
   ]
  },
  {
   "cell_type": "markdown",
   "id": "718d825b",
   "metadata": {},
   "source": [
    "<h1>because you are soooo special we are gonna award you a VIP user_id = 999999999<h1>"
   ]
  },
  {
   "cell_type": "code",
   "execution_count": 30,
   "id": "bc4e9c13",
   "metadata": {},
   "outputs": [
    {
     "name": "stdout",
     "output_type": "stream",
     "text": [
      "✅ Added 1 new ratings for user 999999999\n"
     ]
    }
   ],
   "source": [
    "rating_df_clean = addrows(999999999, watched, rating_df_clean)"
   ]
  },
  {
   "cell_type": "code",
   "execution_count": 31,
   "id": "95e4ea7c",
   "metadata": {},
   "outputs": [
    {
     "data": {
      "text/html": [
       "<div>\n",
       "<style scoped>\n",
       "    .dataframe tbody tr th:only-of-type {\n",
       "        vertical-align: middle;\n",
       "    }\n",
       "\n",
       "    .dataframe tbody tr th {\n",
       "        vertical-align: top;\n",
       "    }\n",
       "\n",
       "    .dataframe thead th {\n",
       "        text-align: right;\n",
       "    }\n",
       "</style>\n",
       "<table border=\"1\" class=\"dataframe\">\n",
       "  <thead>\n",
       "    <tr style=\"text-align: right;\">\n",
       "      <th></th>\n",
       "      <th>user_id</th>\n",
       "      <th>anime_id</th>\n",
       "      <th>rating</th>\n",
       "      <th>anime_name</th>\n",
       "    </tr>\n",
       "  </thead>\n",
       "  <tbody>\n",
       "    <tr>\n",
       "      <th>1435890</th>\n",
       "      <td>999999999</td>\n",
       "      <td>30276</td>\n",
       "      <td>6.0</td>\n",
       "      <td>One Punch Man</td>\n",
       "    </tr>\n",
       "  </tbody>\n",
       "</table>\n",
       "</div>"
      ],
      "text/plain": [
       "           user_id  anime_id  rating     anime_name\n",
       "1435890  999999999     30276     6.0  One Punch Man"
      ]
     },
     "execution_count": 31,
     "metadata": {},
     "output_type": "execute_result"
    }
   ],
   "source": [
    "rating_df_clean.loc[rating_df_clean['user_id'] == 999999999]"
   ]
  },
  {
   "cell_type": "code",
   "execution_count": 32,
   "id": "b50b9bdb",
   "metadata": {},
   "outputs": [],
   "source": [
    "precomps(rating_df_clean)       # ← sets up all the globals"
   ]
  },
  {
   "cell_type": "markdown",
   "id": "c84460cd",
   "metadata": {},
   "source": [
    "<h2>My dear, we shall see how your recommendations are now that we have something to go off of.  <h2>"
   ]
  },
  {
   "cell_type": "code",
   "execution_count": 33,
   "id": "c6c31626",
   "metadata": {},
   "outputs": [],
   "source": [
    "recs = HybridCF(999999999, rating_df_clean)\n"
   ]
  },
  {
   "cell_type": "code",
   "execution_count": 34,
   "id": "f09f75e7",
   "metadata": {},
   "outputs": [
    {
     "data": {
      "text/html": [
       "<div>\n",
       "<style scoped>\n",
       "    .dataframe tbody tr th:only-of-type {\n",
       "        vertical-align: middle;\n",
       "    }\n",
       "\n",
       "    .dataframe tbody tr th {\n",
       "        vertical-align: top;\n",
       "    }\n",
       "\n",
       "    .dataframe thead th {\n",
       "        text-align: right;\n",
       "    }\n",
       "</style>\n",
       "<table border=\"1\" class=\"dataframe\">\n",
       "  <thead>\n",
       "    <tr style=\"text-align: right;\">\n",
       "      <th></th>\n",
       "      <th>anime_name</th>\n",
       "      <th>anime_id</th>\n",
       "    </tr>\n",
       "  </thead>\n",
       "  <tbody>\n",
       "    <tr>\n",
       "      <th>0</th>\n",
       "      <td>Kishuku Gakkou no Juliet</td>\n",
       "      <td>37475</td>\n",
       "    </tr>\n",
       "    <tr>\n",
       "      <th>1</th>\n",
       "      <td>Shigatsu wa Kimi no Uso: Moments</td>\n",
       "      <td>28069</td>\n",
       "    </tr>\n",
       "    <tr>\n",
       "      <th>2</th>\n",
       "      <td>Boku no Sexual Harassment</td>\n",
       "      <td>755</td>\n",
       "    </tr>\n",
       "    <tr>\n",
       "      <th>3</th>\n",
       "      <td>Kaijuu no Kodomo</td>\n",
       "      <td>37981</td>\n",
       "    </tr>\n",
       "    <tr>\n",
       "      <th>4</th>\n",
       "      <td>Mahou no Tenshi Creamy Mami: Lovely Serenade</td>\n",
       "      <td>4126</td>\n",
       "    </tr>\n",
       "    <tr>\n",
       "      <th>5</th>\n",
       "      <td>Wu Geng Ji 2nd Season</td>\n",
       "      <td>36910</td>\n",
       "    </tr>\n",
       "    <tr>\n",
       "      <th>6</th>\n",
       "      <td>eX-Driver the Movie Specials</td>\n",
       "      <td>12351</td>\n",
       "    </tr>\n",
       "    <tr>\n",
       "      <th>7</th>\n",
       "      <td>Nekketsu Tantei Jimusho</td>\n",
       "      <td>20581</td>\n",
       "    </tr>\n",
       "    <tr>\n",
       "      <th>8</th>\n",
       "      <td>Bamboo Blade: Fanfu-Fufe-Fo</td>\n",
       "      <td>28813</td>\n",
       "    </tr>\n",
       "    <tr>\n",
       "      <th>9</th>\n",
       "      <td>Bamboo Blade: CM Fanfu-Fufe-Fo</td>\n",
       "      <td>28815</td>\n",
       "    </tr>\n",
       "  </tbody>\n",
       "</table>\n",
       "</div>"
      ],
      "text/plain": [
       "                                     anime_name  anime_id\n",
       "0                      Kishuku Gakkou no Juliet     37475\n",
       "1              Shigatsu wa Kimi no Uso: Moments     28069\n",
       "2                     Boku no Sexual Harassment       755\n",
       "3                              Kaijuu no Kodomo     37981\n",
       "4  Mahou no Tenshi Creamy Mami: Lovely Serenade      4126\n",
       "5                         Wu Geng Ji 2nd Season     36910\n",
       "6                  eX-Driver the Movie Specials     12351\n",
       "7                       Nekketsu Tantei Jimusho     20581\n",
       "8                   Bamboo Blade: Fanfu-Fufe-Fo     28813\n",
       "9                Bamboo Blade: CM Fanfu-Fufe-Fo     28815"
      ]
     },
     "execution_count": 34,
     "metadata": {},
     "output_type": "execute_result"
    }
   ],
   "source": [
    "recs\n",
    "\n"
   ]
  },
  {
   "cell_type": "markdown",
   "id": "2d15898e",
   "metadata": {},
   "source": [
    "<h2>Lets see how the recommendations change after you rate some more animes<h2>"
   ]
  },
  {
   "cell_type": "code",
   "execution_count": 35,
   "id": "690e312d",
   "metadata": {},
   "outputs": [
    {
     "name": "stdout",
     "output_type": "stream",
     "text": [
      " You have already rated 'One Punch Man' — skipping\n",
      "✅ Added 3 new ratings for user 999999999\n"
     ]
    }
   ],
   "source": [
    "\n",
    "for i in range(3):\n",
    "    watched.append(input(\"Enter the name of the animes you have watched: \"))\n",
    "\n",
    "rating_df_clean = addrows(999999999, watched, rating_df_clean)\n",
    "precomps(rating_df_clean)"
   ]
  },
  {
   "cell_type": "code",
   "execution_count": 36,
   "id": "1d1ccf05",
   "metadata": {},
   "outputs": [
    {
     "data": {
      "text/html": [
       "<div>\n",
       "<style scoped>\n",
       "    .dataframe tbody tr th:only-of-type {\n",
       "        vertical-align: middle;\n",
       "    }\n",
       "\n",
       "    .dataframe tbody tr th {\n",
       "        vertical-align: top;\n",
       "    }\n",
       "\n",
       "    .dataframe thead th {\n",
       "        text-align: right;\n",
       "    }\n",
       "</style>\n",
       "<table border=\"1\" class=\"dataframe\">\n",
       "  <thead>\n",
       "    <tr style=\"text-align: right;\">\n",
       "      <th></th>\n",
       "      <th>user_id</th>\n",
       "      <th>anime_id</th>\n",
       "      <th>rating</th>\n",
       "      <th>anime_name</th>\n",
       "    </tr>\n",
       "  </thead>\n",
       "  <tbody>\n",
       "    <tr>\n",
       "      <th>1435889</th>\n",
       "      <td>353387</td>\n",
       "      <td>37259</td>\n",
       "      <td>7.0</td>\n",
       "      <td>Hanebado!</td>\n",
       "    </tr>\n",
       "    <tr>\n",
       "      <th>1435890</th>\n",
       "      <td>999999999</td>\n",
       "      <td>30276</td>\n",
       "      <td>6.0</td>\n",
       "      <td>One Punch Man</td>\n",
       "    </tr>\n",
       "    <tr>\n",
       "      <th>1435891</th>\n",
       "      <td>999999999</td>\n",
       "      <td>6512</td>\n",
       "      <td>10.0</td>\n",
       "      <td>Nyan Koi!</td>\n",
       "    </tr>\n",
       "    <tr>\n",
       "      <th>1435892</th>\n",
       "      <td>999999999</td>\n",
       "      <td>5958</td>\n",
       "      <td>7.0</td>\n",
       "      <td>Sora no Otoshimono</td>\n",
       "    </tr>\n",
       "    <tr>\n",
       "      <th>1435893</th>\n",
       "      <td>999999999</td>\n",
       "      <td>1535</td>\n",
       "      <td>9.0</td>\n",
       "      <td>Death Note</td>\n",
       "    </tr>\n",
       "  </tbody>\n",
       "</table>\n",
       "</div>"
      ],
      "text/plain": [
       "           user_id  anime_id  rating          anime_name\n",
       "1435889     353387     37259     7.0           Hanebado!\n",
       "1435890  999999999     30276     6.0       One Punch Man\n",
       "1435891  999999999      6512    10.0           Nyan Koi!\n",
       "1435892  999999999      5958     7.0  Sora no Otoshimono\n",
       "1435893  999999999      1535     9.0          Death Note"
      ]
     },
     "execution_count": 36,
     "metadata": {},
     "output_type": "execute_result"
    }
   ],
   "source": [
    "rating_df_clean.tail()"
   ]
  },
  {
   "cell_type": "code",
   "execution_count": 37,
   "id": "51a3e33e",
   "metadata": {},
   "outputs": [],
   "source": [
    "recs = HybridCF(999999999, rating_df_clean)"
   ]
  },
  {
   "cell_type": "code",
   "execution_count": 38,
   "id": "b91fa033",
   "metadata": {},
   "outputs": [
    {
     "data": {
      "text/html": [
       "<div>\n",
       "<style scoped>\n",
       "    .dataframe tbody tr th:only-of-type {\n",
       "        vertical-align: middle;\n",
       "    }\n",
       "\n",
       "    .dataframe tbody tr th {\n",
       "        vertical-align: top;\n",
       "    }\n",
       "\n",
       "    .dataframe thead th {\n",
       "        text-align: right;\n",
       "    }\n",
       "</style>\n",
       "<table border=\"1\" class=\"dataframe\">\n",
       "  <thead>\n",
       "    <tr style=\"text-align: right;\">\n",
       "      <th></th>\n",
       "      <th>anime_name</th>\n",
       "      <th>anime_id</th>\n",
       "    </tr>\n",
       "  </thead>\n",
       "  <tbody>\n",
       "    <tr>\n",
       "      <th>0</th>\n",
       "      <td>Monster</td>\n",
       "      <td>19</td>\n",
       "    </tr>\n",
       "    <tr>\n",
       "      <th>1</th>\n",
       "      <td>Tsuki ga Kirei</td>\n",
       "      <td>34822</td>\n",
       "    </tr>\n",
       "    <tr>\n",
       "      <th>2</th>\n",
       "      <td>Samurai 7</td>\n",
       "      <td>166</td>\n",
       "    </tr>\n",
       "    <tr>\n",
       "      <th>3</th>\n",
       "      <td>Rainbow: Nisha Rokubou no Shichinin</td>\n",
       "      <td>6114</td>\n",
       "    </tr>\n",
       "    <tr>\n",
       "      <th>4</th>\n",
       "      <td>Mob Psycho 100 II</td>\n",
       "      <td>37510</td>\n",
       "    </tr>\n",
       "    <tr>\n",
       "      <th>5</th>\n",
       "      <td>Beastars</td>\n",
       "      <td>39195</td>\n",
       "    </tr>\n",
       "    <tr>\n",
       "      <th>6</th>\n",
       "      <td>Ishuzoku Reviewers</td>\n",
       "      <td>40010</td>\n",
       "    </tr>\n",
       "    <tr>\n",
       "      <th>7</th>\n",
       "      <td>Night Head Genesis</td>\n",
       "      <td>1243</td>\n",
       "    </tr>\n",
       "    <tr>\n",
       "      <th>8</th>\n",
       "      <td>Over Drive</td>\n",
       "      <td>2112</td>\n",
       "    </tr>\n",
       "    <tr>\n",
       "      <th>9</th>\n",
       "      <td>Kochira Katsushikaku Kameari Kouenmae Hashutsujo</td>\n",
       "      <td>3545</td>\n",
       "    </tr>\n",
       "  </tbody>\n",
       "</table>\n",
       "</div>"
      ],
      "text/plain": [
       "                                         anime_name  anime_id\n",
       "0                                           Monster        19\n",
       "1                                    Tsuki ga Kirei     34822\n",
       "2                                         Samurai 7       166\n",
       "3               Rainbow: Nisha Rokubou no Shichinin      6114\n",
       "4                                 Mob Psycho 100 II     37510\n",
       "5                                          Beastars     39195\n",
       "6                                Ishuzoku Reviewers     40010\n",
       "7                                Night Head Genesis      1243\n",
       "8                                        Over Drive      2112\n",
       "9  Kochira Katsushikaku Kameari Kouenmae Hashutsujo      3545"
      ]
     },
     "execution_count": 38,
     "metadata": {},
     "output_type": "execute_result"
    }
   ],
   "source": [
    "recs"
   ]
  },
  {
   "cell_type": "code",
   "execution_count": null,
   "id": "8c286245",
   "metadata": {},
   "outputs": [],
   "source": [
    "# Nyan Koi!\n",
    "# Sora no Otoshimono\n",
    "# Death Note"
   ]
  }
 ],
 "metadata": {
  "kernelspec": {
   "display_name": "Python 3",
   "language": "python",
   "name": "python3"
  },
  "language_info": {
   "codemirror_mode": {
    "name": "ipython",
    "version": 3
   },
   "file_extension": ".py",
   "mimetype": "text/x-python",
   "name": "python",
   "nbconvert_exporter": "python",
   "pygments_lexer": "ipython3",
   "version": "3.12.4"
  }
 },
 "nbformat": 4,
 "nbformat_minor": 5
}
