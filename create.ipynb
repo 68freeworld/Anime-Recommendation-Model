{
 "cells": [
  {
   "cell_type": "code",
   "execution_count": 8,
   "id": "9771949d",
   "metadata": {},
   "outputs": [],
   "source": [
    "import pandas as pd\n",
    "# Show max cols\n",
    "pd.set_option('display.max_columns', 10)\n",
    "pd.set_option('display.max_rows', 10)"
   ]
  },
  {
   "cell_type": "code",
   "execution_count": 9,
   "id": "de3a252a",
   "metadata": {},
   "outputs": [],
   "source": [
    "# 1) Load tables\n",
    "\n",
    "anime_meta = pd.read_csv(\"anime.csv\")               # MAL_ID, Name, Score, Genres, …\n",
    "synopsis   = pd.read_csv(\"anime_with_synopsis.csv\") # MAL_ID, sypnopsis"
   ]
  },
  {
   "cell_type": "code",
   "execution_count": 10,
   "id": "4c49793a",
   "metadata": {},
   "outputs": [],
   "source": [
    "# 2) Fix typo in synopsis column\n",
    "synopsis = synopsis.rename(columns={\"sypnopsis\": \"Synopsis\"})\n",
    "\n",
    "# 3) Merge anime ID with anime synopsis\n",
    "# Docs: https://pandas.pydata.org/docs/reference/api/pandas.DataFrame.merge.html\n",
    "df = anime_meta.merge(\n",
    "    synopsis[[\"MAL_ID\", \"Synopsis\"]],\n",
    "    on=\"MAL_ID\",\n",
    "    how=\"left\"\n",
    ")"
   ]
  },
  {
   "cell_type": "code",
   "execution_count": null,
   "id": "71c883c5",
   "metadata": {},
   "outputs": [],
   "source": [
    "# 4) Select and rename columns for clarity\n",
    "df = df.rename(columns={\n",
    "    \"MAL_ID\": \"anime_id\",\n",
    "    \"Name\": \"anime_name\",\n",
    "    \"Genres\": \"Genres\",\n",
    "    \"Score\": \"Score\",\n",
    "    \"Synopsis\": \"Synopsis\"\n",
    "})[[\"anime_name\", \"anime_id\", \"Genres\", \"Score\", \"Synopsis\"]]\n"
   ]
  },
  {
   "cell_type": "code",
   "execution_count": 13,
   "id": "66e05b16",
   "metadata": {},
   "outputs": [
    {
     "name": "stdout",
     "output_type": "stream",
     "text": [
      "Merged anime metadata saved to anime_meta.csv 17562 rows and 5 columns.\n"
     ]
    }
   ],
   "source": [
    "# 5) Save merged data to CSV\n",
    "# Docs: https://pandas.pydata.org/docs/reference/api/pandas.DataFrame.to_csv.html\n",
    "output_path = \"anime_meta.csv\"\n",
    "df.to_csv(output_path, index=False)\n",
    "\n",
    "# 6) Confirmation print\n",
    "print(\"Merged anime metadata saved to\", output_path, df.shape[0], \"rows and\", df.shape[1], \"columns.\")"
   ]
  },
  {
   "cell_type": "code",
   "execution_count": null,
   "id": "0b8941ca",
   "metadata": {},
   "outputs": [
    {
     "data": {
      "text/html": [
       "<div>\n",
       "<style scoped>\n",
       "    .dataframe tbody tr th:only-of-type {\n",
       "        vertical-align: middle;\n",
       "    }\n",
       "\n",
       "    .dataframe tbody tr th {\n",
       "        vertical-align: top;\n",
       "    }\n",
       "\n",
       "    .dataframe thead th {\n",
       "        text-align: right;\n",
       "    }\n",
       "</style>\n",
       "<table border=\"1\" class=\"dataframe\">\n",
       "  <thead>\n",
       "    <tr style=\"text-align: right;\">\n",
       "      <th></th>\n",
       "      <th>anime_name</th>\n",
       "      <th>anime_id</th>\n",
       "      <th>Genres</th>\n",
       "      <th>Score</th>\n",
       "      <th>Synopsis</th>\n",
       "    </tr>\n",
       "  </thead>\n",
       "  <tbody>\n",
       "    <tr>\n",
       "      <th>0</th>\n",
       "      <td>Cowboy Bebop</td>\n",
       "      <td>1</td>\n",
       "      <td>Action, Adventure, Comedy, Drama, Sci-Fi, Space</td>\n",
       "      <td>8.78</td>\n",
       "      <td>In the year 2071, humanity has colonized sever...</td>\n",
       "    </tr>\n",
       "    <tr>\n",
       "      <th>1</th>\n",
       "      <td>Cowboy Bebop: Tengoku no Tobira</td>\n",
       "      <td>5</td>\n",
       "      <td>Action, Drama, Mystery, Sci-Fi, Space</td>\n",
       "      <td>8.39</td>\n",
       "      <td>other day, another bounty—such is the life of ...</td>\n",
       "    </tr>\n",
       "    <tr>\n",
       "      <th>2</th>\n",
       "      <td>Trigun</td>\n",
       "      <td>6</td>\n",
       "      <td>Action, Sci-Fi, Adventure, Comedy, Drama, Shounen</td>\n",
       "      <td>8.24</td>\n",
       "      <td>Vash the Stampede is the man with a $$60,000,0...</td>\n",
       "    </tr>\n",
       "    <tr>\n",
       "      <th>3</th>\n",
       "      <td>Witch Hunter Robin</td>\n",
       "      <td>7</td>\n",
       "      <td>Action, Mystery, Police, Supernatural, Drama, ...</td>\n",
       "      <td>7.27</td>\n",
       "      <td>ches are individuals with special powers like ...</td>\n",
       "    </tr>\n",
       "    <tr>\n",
       "      <th>4</th>\n",
       "      <td>Bouken Ou Beet</td>\n",
       "      <td>8</td>\n",
       "      <td>Adventure, Fantasy, Shounen, Supernatural</td>\n",
       "      <td>6.98</td>\n",
       "      <td>It is the dark century and the people are suff...</td>\n",
       "    </tr>\n",
       "  </tbody>\n",
       "</table>\n",
       "</div>"
      ],
      "text/plain": [
       "                        anime_name  anime_id  \\\n",
       "0                     Cowboy Bebop         1   \n",
       "1  Cowboy Bebop: Tengoku no Tobira         5   \n",
       "2                           Trigun         6   \n",
       "3               Witch Hunter Robin         7   \n",
       "4                   Bouken Ou Beet         8   \n",
       "\n",
       "                                              Genres Score  \\\n",
       "0    Action, Adventure, Comedy, Drama, Sci-Fi, Space  8.78   \n",
       "1              Action, Drama, Mystery, Sci-Fi, Space  8.39   \n",
       "2  Action, Sci-Fi, Adventure, Comedy, Drama, Shounen  8.24   \n",
       "3  Action, Mystery, Police, Supernatural, Drama, ...  7.27   \n",
       "4          Adventure, Fantasy, Shounen, Supernatural  6.98   \n",
       "\n",
       "                                            Synopsis  \n",
       "0  In the year 2071, humanity has colonized sever...  \n",
       "1  other day, another bounty—such is the life of ...  \n",
       "2  Vash the Stampede is the man with a $$60,000,0...  \n",
       "3  ches are individuals with special powers like ...  \n",
       "4  It is the dark century and the people are suff...  "
      ]
     },
     "execution_count": 16,
     "metadata": {},
     "output_type": "execute_result"
    }
   ],
   "source": [
    "df = pd.read_csv(output_path)\n",
    "df.head()"
   ]
  },
  {
   "cell_type": "code",
   "execution_count": 15,
   "id": "ea559894",
   "metadata": {},
   "outputs": [
    {
     "data": {
      "text/html": [
       "<div>\n",
       "<style scoped>\n",
       "    .dataframe tbody tr th:only-of-type {\n",
       "        vertical-align: middle;\n",
       "    }\n",
       "\n",
       "    .dataframe tbody tr th {\n",
       "        vertical-align: top;\n",
       "    }\n",
       "\n",
       "    .dataframe thead th {\n",
       "        text-align: right;\n",
       "    }\n",
       "</style>\n",
       "<table border=\"1\" class=\"dataframe\">\n",
       "  <thead>\n",
       "    <tr style=\"text-align: right;\">\n",
       "      <th></th>\n",
       "      <th>anime_id</th>\n",
       "    </tr>\n",
       "  </thead>\n",
       "  <tbody>\n",
       "    <tr>\n",
       "      <th>count</th>\n",
       "      <td>17562.000000</td>\n",
       "    </tr>\n",
       "    <tr>\n",
       "      <th>mean</th>\n",
       "      <td>21477.192347</td>\n",
       "    </tr>\n",
       "    <tr>\n",
       "      <th>std</th>\n",
       "      <td>14900.093170</td>\n",
       "    </tr>\n",
       "    <tr>\n",
       "      <th>min</th>\n",
       "      <td>1.000000</td>\n",
       "    </tr>\n",
       "    <tr>\n",
       "      <th>25%</th>\n",
       "      <td>5953.500000</td>\n",
       "    </tr>\n",
       "    <tr>\n",
       "      <th>50%</th>\n",
       "      <td>22820.000000</td>\n",
       "    </tr>\n",
       "    <tr>\n",
       "      <th>75%</th>\n",
       "      <td>35624.750000</td>\n",
       "    </tr>\n",
       "    <tr>\n",
       "      <th>max</th>\n",
       "      <td>48492.000000</td>\n",
       "    </tr>\n",
       "  </tbody>\n",
       "</table>\n",
       "</div>"
      ],
      "text/plain": [
       "           anime_id\n",
       "count  17562.000000\n",
       "mean   21477.192347\n",
       "std    14900.093170\n",
       "min        1.000000\n",
       "25%     5953.500000\n",
       "50%    22820.000000\n",
       "75%    35624.750000\n",
       "max    48492.000000"
      ]
     },
     "execution_count": 15,
     "metadata": {},
     "output_type": "execute_result"
    }
   ],
   "source": [
    "df.describe()"
   ]
  }
 ],
 "metadata": {
  "kernelspec": {
   "display_name": "Python 3",
   "language": "python",
   "name": "python3"
  },
  "language_info": {
   "codemirror_mode": {
    "name": "ipython",
    "version": 3
   },
   "file_extension": ".py",
   "mimetype": "text/x-python",
   "name": "python",
   "nbconvert_exporter": "python",
   "pygments_lexer": "ipython3",
   "version": "3.12.5"
  }
 },
 "nbformat": 4,
 "nbformat_minor": 5
}
